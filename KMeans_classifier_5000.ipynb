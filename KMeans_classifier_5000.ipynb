{
 "cells": [
  {
   "cell_type": "markdown",
   "metadata": {
    "id": "eq1CVmA33kB2"
   },
   "source": [
    "# _**KMeans**_"
   ]
  },
  {
   "cell_type": "markdown",
   "metadata": {
    "id": "8LF29iSk7LKu"
   },
   "source": [
    "__<u>KMeans</u>__\n",
    "- число кластеров\t- нужно задать заранее (k)  \n",
    "- форма кластеров\t- чаще всего круглая  \n",
    "- не умеет (не классифицированные точки относит к кластеру \"-1\")    \n",
    "- производительность - быстрее на больших объемах данных  \n",
    "- чувствительность к параметрам - зависит от выбора числа кластеров   \n",
    "- применение - хорош для четко разделимых данных"
   ]
  },
  {
   "cell_type": "markdown",
   "metadata": {
    "id": "HGQhu5v67Tfm"
   },
   "source": [
    "Алгоритм k-средних улавливает понимание того, что каждая точка в кластере должна быть близка к центру этого кластера. Он работает следующим образом: сначала мы выбираем k, количество кластеров, которые мы хотим найти в данных. Затем центры этих k кластеров, называемые центроидами , инициализируются некоторым образом (обсуждается позже).  \n",
    "\n",
    "Затем алгоритм выполняется в двух чередующихся частях: на этапе Reassign Points мы назначаем каждую точку в данных кластеру, центроид которого находится ближе всего к нему. На этапе Update Centroids мы пересчитываем местоположение каждого центроида как среднее (центр) всех точек, назначенных его кластеру. Затем мы повторяем эти шаги до тех пор, пока центроиды не перестанут двигаться или, что эквивалентно, пока точки не перестанут переключаться между кластерами.  \n",
    "https://www.naftaliharris.com/blog/visualizing-k-means-clustering/"
   ]
  },
  {
   "cell_type": "markdown",
   "metadata": {
    "id": "uytvMI6eHdi_"
   },
   "source": [
    "# <font color='yellow'>-> _pip, import_"
   ]
  },
  {
   "cell_type": "markdown",
   "metadata": {
    "id": "D3rMYgBO3kB5"
   },
   "source": [
    "#### <font color='yellow'>_Импорты_"
   ]
  },
  {
   "cell_type": "code",
   "execution_count": null,
   "metadata": {
    "id": "sr-PAZzbHdjB"
   },
   "outputs": [],
   "source": [
    "!pip install transformers[sentencepiece]\n",
    "!pip install huggingface_hub\n",
    "!pip install tqdm"
   ]
  },
  {
   "cell_type": "code",
   "execution_count": null,
   "metadata": {
    "id": "WdNkDrFQpFwI"
   },
   "outputs": [],
   "source": [
    "!pip install umap-learn"
   ]
  },
  {
   "cell_type": "code",
   "execution_count": 1,
   "metadata": {
    "executionInfo": {
     "elapsed": 27104,
     "status": "ok",
     "timestamp": 1745220007280,
     "user": {
      "displayName": "Yurkmez Shaikh",
      "userId": "13761243575530827465"
     },
     "user_tz": -180
    },
    "id": "eNMjBtOl5ffr"
   },
   "outputs": [],
   "source": [
    "import torch\n",
    "from sentence_transformers import SentenceTransformer"
   ]
  },
  {
   "cell_type": "code",
   "execution_count": 2,
   "metadata": {
    "executionInfo": {
     "elapsed": 627,
     "status": "ok",
     "timestamp": 1745220010226,
     "user": {
      "displayName": "Yurkmez Shaikh",
      "userId": "13761243575530827465"
     },
     "user_tz": -180
    },
    "id": "utZK0UbqXUx4"
   },
   "outputs": [],
   "source": [
    "import sys\n",
    "import numpy as np\n",
    "import pandas as pd\n",
    "from tqdm import tqdm\n",
    "import matplotlib.pyplot as plt\n",
    "from sklearn.model_selection import train_test_split\n",
    "# Кластеризатор\n",
    "from sklearn.cluster import KMeans"
   ]
  },
  {
   "cell_type": "markdown",
   "metadata": {
    "id": "xJke7zmUJWh-"
   },
   "source": [
    "#### <font color='yellow'>_Работа локально_"
   ]
  },
  {
   "cell_type": "code",
   "execution_count": null,
   "metadata": {
    "id": "89N3jBW6JVH2"
   },
   "outputs": [],
   "source": [
    "!pip install python-dotenv"
   ]
  },
  {
   "cell_type": "code",
   "execution_count": null,
   "metadata": {
    "id": "uj-LLeg1HdjC",
    "outputId": "d3477e6e-ae48-484b-d64f-b1e3cc342e45"
   },
   "outputs": [],
   "source": [
    "import os\n",
    "from dotenv import load_dotenv\n",
    "\n",
    "# Проверка наличия токена в env\n",
    "load_dotenv()\n",
    "print(os.getenv(\"HF_TOKEN\"))\n",
    "\n",
    "# Использования токена:\n",
    "from huggingface_hub import login\n",
    "login(os.getenv(\"HF_TOKEN\"))\n",
    "\n",
    "# Подключение файла classifiers_functions.py (классификаторы и ф-ция оценки качества классификации)\n",
    "sys.path.append('./Classifiers')\n",
    "import classifiers_functions"
   ]
  },
  {
   "cell_type": "markdown",
   "metadata": {
    "id": "hnljkm9PJdIQ"
   },
   "source": [
    "#### <font color='yellow'>_Работа на Google Colab_"
   ]
  },
  {
   "cell_type": "code",
   "execution_count": 3,
   "metadata": {
    "colab": {
     "base_uri": "https://localhost:8080/",
     "height": 17,
     "referenced_widgets": [
      "9138738915904f9d983dac1ba0a4c56b",
      "d8275553003442a8a2b53002d23b3900",
      "a7af701dd61749eb8961f917720c1518",
      "861842f18e9b423da4d2bc23a0154f5d",
      "916d5a9e469f49f892ad2664a72ceea5",
      "cc56f5d2aeed4646b1b831b9847f05e3",
      "3f6c31838926472cb5e6a2a55ffaf89f",
      "a7b285481475420d8bad343736a1ea74",
      "5f18a4e475aa4518a222d7afe7627a09",
      "aec2ab941a14411aafb4dbdda2165f92",
      "44b4326bc55b4a91b60e2c12f5f65dff",
      "ee1f562a7e084060806dc79802049882",
      "94be50c9abeb44d4934e8948a23ed638",
      "5fa162e07378439999a62cdb5b38bc1e",
      "35472e775c374f39a0fcd87069b49fe2",
      "5c368a1b8fbf40dbbdfcd78498d68803",
      "8d84e1a895454bc2909743ca7ff05fd6",
      "389ae2ce3e6248cc98347b9fef213adf",
      "f36928649b9e4c308dc2635921c42e85",
      "231b1b1a246e403cb8c99ab07c41d530"
     ]
    },
    "executionInfo": {
     "elapsed": 238,
     "status": "ok",
     "timestamp": 1745220016279,
     "user": {
      "displayName": "Yurkmez Shaikh",
      "userId": "13761243575530827465"
     },
     "user_tz": -180
    },
    "id": "3xPClOPIJhyx",
    "outputId": "794918c5-1c84-4a0a-d5f0-aa495f5841ab"
   },
   "outputs": [
    {
     "data": {
      "application/vnd.jupyter.widget-view+json": {
       "model_id": "9138738915904f9d983dac1ba0a4c56b",
       "version_major": 2,
       "version_minor": 0
      },
      "text/plain": [
       "VBox(children=(HTML(value='<center> <img\\nsrc=https://huggingface.co/front/assets/huggingface_logo-noborder.sv…"
      ]
     },
     "metadata": {},
     "output_type": "display_data"
    }
   ],
   "source": [
    "from huggingface_hub import notebook_login\n",
    "notebook_login()"
   ]
  },
  {
   "cell_type": "code",
   "execution_count": 4,
   "metadata": {
    "colab": {
     "base_uri": "https://localhost:8080/"
    },
    "executionInfo": {
     "elapsed": 17980,
     "status": "ok",
     "timestamp": 1745220055357,
     "user": {
      "displayName": "Yurkmez Shaikh",
      "userId": "13761243575530827465"
     },
     "user_tz": -180
    },
    "id": "8Qsg__fcYEIW",
    "outputId": "86e42be4-0c39-41d7-b07b-ac426ca7759c"
   },
   "outputs": [
    {
     "name": "stdout",
     "output_type": "stream",
     "text": [
      "Mounted at /content/drive\n"
     ]
    }
   ],
   "source": [
    "# Связь с файлами на Google drıve\n",
    "from google.colab import drive\n",
    "drive.mount('/content/drive')"
   ]
  },
  {
   "cell_type": "code",
   "execution_count": 5,
   "metadata": {
    "colab": {
     "base_uri": "https://localhost:8080/"
    },
    "executionInfo": {
     "elapsed": 3329,
     "status": "ok",
     "timestamp": 1745220058698,
     "user": {
      "displayName": "Yurkmez Shaikh",
      "userId": "13761243575530827465"
     },
     "user_tz": -180
    },
    "id": "pLbRnCMiz1Bi",
    "outputId": "0967239c-0a15-4441-82eb-df7c9cd1b064"
   },
   "outputs": [
    {
     "name": "stdout",
     "output_type": "stream",
     "text": [
      "['/content', '/env/python', '/usr/lib/python311.zip', '/usr/lib/python3.11', '/usr/lib/python3.11/lib-dynload', '', '/usr/local/lib/python3.11/dist-packages', '/usr/lib/python3/dist-packages', '/usr/local/lib/python3.11/dist-packages/IPython/extensions', '/root/.ipython', '/usr/local/lib/python3.11/dist-packages/setuptools/_vendor', '/tmp/tmpbbhj_5vb', '/content/drive/My Drive/Example_ML/classification_text/Classifiers/Classifiers/']\n"
     ]
    }
   ],
   "source": [
    "# !touch \"/content/drive/My Drive/Example_ML/classification_text/Classifiers/Classifiers/__init__.py\"\n",
    "sys.path.append('/content/drive/My Drive/Example_ML/classification_text/Classifiers/Classifiers/')\n",
    "print(sys.path)\n",
    "# Подключение файла classifiers_functions.py (классификаторы и ф-ция оценки качества классификации)\n",
    "import classifiers_functions"
   ]
  },
  {
   "cell_type": "markdown",
   "metadata": {
    "id": "-uMdgR-1pUtA"
   },
   "source": [
    "# <font color='yellow'>_-> эмбеддинг данных_   "
   ]
  },
  {
   "cell_type": "markdown",
   "metadata": {
    "id": "HlZVxM161dem"
   },
   "source": [
    "### _собственно эмбеддинг_"
   ]
  },
  {
   "cell_type": "code",
   "execution_count": null,
   "metadata": {
    "id": "IvmymyX-CPTH"
   },
   "outputs": [],
   "source": [
    "# === Загрузка модели (перевод на CUDA, если возможно) ===\n",
    "model_name = \"cointegrated/rubert-tiny2\"  # Можно RuBERT\n",
    "# model_name = \"sentence-transformers/LaBSE\"  # Можно RuBERT\n",
    "device = \"cuda\" if torch.cuda.is_available() else \"cpu\"\n",
    "model = SentenceTransformer(model_name).to(device)"
   ]
  },
  {
   "cell_type": "code",
   "execution_count": null,
   "metadata": {
    "id": "rP3iQbXjCsU2"
   },
   "outputs": [],
   "source": [
    "# === Параметры для загрузки текста ===\n",
    "chunk_size = 1000\n",
    "file_path_data = '/content/drive/My Drive/Example_ML/classification_text/Classifiers/articles.csv'"
   ]
  },
  {
   "cell_type": "code",
   "execution_count": null,
   "metadata": {
    "colab": {
     "base_uri": "https://localhost:8080/"
    },
    "id": "CLi_LKzCC4Eg",
    "outputId": "976a8400-19d5-4133-ebb6-b4458a63cc87"
   },
   "outputs": [
    {
     "name": "stdout",
     "output_type": "stream",
     "text": [
      "   doc_id                                              title\n",
      "0       6  Заместитель председателяnправительства РФnСерг...\n",
      "1    4896  Матч 1/16 финала Кубка России по футболу был п...\n",
      "2    4897  Форвард «Авангарда» Томаш Заборский прокоммент...\n",
      "3    4898  Главный тренер «Кубани» Юрий Красножан прокомм...\n",
      "4    4899  Решением попечительского совета владивостокско...\n",
      "Index(['doc_id', 'title'], dtype='object')\n"
     ]
    }
   ],
   "source": [
    "# Читаем первый chunk и смотрим полученные данные\n",
    "chunk = next(pd.read_csv(file_path_data, chunksize=chunk_size))  # Загружаем первый кусок\n",
    "print(chunk.head())  # Вывод первых строк\n",
    "print(chunk.columns)  # Вывод всех колонок в файле"
   ]
  },
  {
   "cell_type": "code",
   "execution_count": null,
   "metadata": {
    "id": "jUqMb7dADOqZ"
   },
   "outputs": [],
   "source": [
    "# Видим, что текст  в колонке `title`, добавляем параметр\n",
    "text_column = \"title\"  # Название колонки с текстами"
   ]
  },
  {
   "cell_type": "code",
   "execution_count": null,
   "metadata": {
    "id": "PggeK1sDChNK"
   },
   "outputs": [],
   "source": [
    "# Выполняем одновременно:\n",
    "# - чтение текстов из файла (до заданного к-ва)\n",
    "# - их эмбеддинг\n",
    "\n",
    "all_texts = []\n",
    "embeddings_list = []\n",
    "all_clusters = []  # Сюда будем добавлять номера кластеров\n",
    "\n",
    "max_text = 5000 # maximum number of texts\n",
    "current_count = 0\n",
    "\n",
    "# Загружаем данные по частям (количеством текстов = max_text) и выполняем эмбеддинг\n",
    "\n",
    "# ____________ tqdm — это Python-библиотека, которая добавляет прогресс-бар при выполнении цикла. Название происходит от арабского \"taqaddum\" — «прогресс».\n",
    "# ____________ показывает: текущий прогресс (в процентах), количество итераций, время выполнения, ETA (оценку оставшегося времени), скорость обработки.\n",
    "\n",
    "for chunk in tqdm(pd.read_csv(file_path_data, chunksize=chunk_size), desc=\"Обработка данных\"):\n",
    "\n",
    "    if text_column not in chunk.columns:\n",
    "        print(f\"Ошибка: в CSV нет колонки '{text_column}'. Доступные: {chunk.columns}\")\n",
    "        break\n",
    "\n",
    "    texts = chunk[text_column].dropna().tolist()  # Убираем пустые значения\n",
    "\n",
    "    remaining = max_text - current_count\n",
    "    if remaining <= 0:\n",
    "        break\n",
    "    # Обрезаем чанк, если он превышает лимит\n",
    "    if len(texts) > remaining:\n",
    "        texts = texts[:remaining]\n",
    "\n",
    "    embeddings_chunk = model.encode(texts, convert_to_numpy=True, show_progress_bar=True)  # Эмбеддинг текстов\n",
    "\n",
    "    # Добавляем эмбеддинги и тексты в общий список\n",
    "    all_texts.extend(texts) # Сохраняем тексты\n",
    "    embeddings_list.append(embeddings_chunk)\n",
    "\n",
    "    current_count += len(texts)\n",
    "    if current_count >= max_text:\n",
    "        break\n",
    "\n",
    "# === Объединяем все эмбеддинги ===\n",
    "embeddings = np.vstack(embeddings_list)  # Превращаем список батчей в одну матрицу"
   ]
  },
  {
   "cell_type": "markdown",
   "metadata": {
    "id": "uhCV9oPNgQQF"
   },
   "source": [
    "### _проверка на нормализованность_"
   ]
  },
  {
   "cell_type": "markdown",
   "metadata": {
    "id": "19tVTj08F-t0"
   },
   "source": [
    "При классификации эмбеддингов, в которых схожесть объектов определяется косинусным расстоянием, в классификаторах лучше использовать косинусную метрику вместо евклидовой. Но, если эмбеддинги уже нормализованы (единичная длина), то минимизация евклидового расстояния эквивалентна минимизации косинусного расстояния, так как:  \n",
    "$$\n",
    "\\text{cosine distance} = 1 - \\cos(\\theta) = 1 - \\frac{A \\cdot B}{\\|A\\| \\|B\\|}\n",
    "$$  \n",
    "При ∥𝐴∥ = ∥𝐵∥ = 1 , минимизация евклидова расстояния  ∥A−B∥ будет приводить к той же кластеризации, что и минимизация косинусного расстояния.\n",
    "\n",
    "Проверка"
   ]
  },
  {
   "cell_type": "code",
   "execution_count": null,
   "metadata": {
    "colab": {
     "base_uri": "https://localhost:8080/"
    },
    "id": "smUHv7mvF2Hd",
    "outputId": "b28abed6-14e4-41ff-d471-abf3229b90f4"
   },
   "outputs": [
    {
     "name": "stdout",
     "output_type": "stream",
     "text": [
      "Min norm: 0.9999998807907104\n",
      "Max norm: 1.0000001192092896\n",
      "Mean norm: 1.0\n"
     ]
    }
   ],
   "source": [
    "# import numpy as np\n",
    "norms = np.linalg.norm(embeddings, axis=1) # Вычислим нормы всех эмбеддингов\n",
    "\n",
    "print(f\"Min norm: {np.min(norms)}\")\n",
    "print(f\"Max norm: {np.max(norms)}\")\n",
    "print(f\"Mean norm: {np.mean(norms)}\")"
   ]
  },
  {
   "cell_type": "markdown",
   "metadata": {
    "id": "41yvIV1EIhsX"
   },
   "source": [
    "Если нет, можно их нормализовать вручную"
   ]
  },
  {
   "cell_type": "code",
   "execution_count": null,
   "metadata": {
    "id": "Xz0lpXorL3pW"
   },
   "outputs": [],
   "source": [
    "from sklearn.preprocessing import normalize\n",
    "normalized_embeddings = normalize(embeddings, norm=\"l2\")"
   ]
  },
  {
   "cell_type": "markdown",
   "metadata": {
    "id": "nB9F4stUcPYL"
   },
   "source": [
    "### _сохранение эмбеддингов_"
   ]
  },
  {
   "cell_type": "code",
   "execution_count": null,
   "metadata": {
    "colab": {
     "base_uri": "https://localhost:8080/"
    },
    "id": "LbkU0uafWmbI",
    "outputId": "767e59ce-301b-483d-8d58-f44e8af944c4"
   },
   "outputs": [
    {
     "name": "stdout",
     "output_type": "stream",
     "text": [
      "✅ Обработано 5000 текстов. Эмбеддинги сохранены в /content/drive/My Drive/Example_ML/classification_text/Classifiers/Data/embeddings_rubert-tiny2_text_5000.npy\n"
     ]
    }
   ],
   "source": [
    "file_path_embeddings = f'/content/drive/My Drive/Example_ML/classification_text/Classifiers/Data/embeddings_rubert-tiny2_text_{max_text}.npy'  # Путь к файлу для сохранения эмбеддингов\n",
    "np.save(file_path_embeddings, embeddings)  # Сохраняем эмбеддинги в файл\n",
    "print(f\"✅ Обработано {len(embeddings)} текстов. Эмбеддинги сохранены в {file_path_embeddings}\")"
   ]
  },
  {
   "cell_type": "code",
   "execution_count": null,
   "metadata": {
    "colab": {
     "base_uri": "https://localhost:8080/"
    },
    "id": "yRPSgoMmk7VG",
    "outputId": "766b631e-468a-443b-b37b-e0808fc3d2b2"
   },
   "outputs": [
    {
     "name": "stdout",
     "output_type": "stream",
     "text": [
      "<class 'numpy.ndarray'>\n",
      "(5000, 312)\n"
     ]
    }
   ],
   "source": [
    "print(type(embeddings))\n",
    "print(embeddings.shape)"
   ]
  },
  {
   "cell_type": "markdown",
   "metadata": {
    "id": "nK0G9pwXxaCO"
   },
   "source": [
    "# <font color='lightblue'>-> _кластеризация по сохраненным эмбеддингам_"
   ]
  },
  {
   "cell_type": "markdown",
   "metadata": {
    "id": "qqmLAzC16TZu"
   },
   "source": [
    "### _загрузка текстов и их эмбеддингов <font color='orange'><small>(all_texts, ebeddings)_  "
   ]
  },
  {
   "cell_type": "code",
   "execution_count": null,
   "metadata": {
    "id": "l8YQZrHIyGsb"
   },
   "outputs": [],
   "source": [
    "# Если не было ранее подключение в google drive\n",
    "from google.colab import drive\n",
    "drive.mount('/content/drive')"
   ]
  },
  {
   "cell_type": "code",
   "execution_count": 6,
   "metadata": {
    "colab": {
     "base_uri": "https://localhost:8080/"
    },
    "executionInfo": {
     "elapsed": 1211,
     "status": "ok",
     "timestamp": 1745220077049,
     "user": {
      "displayName": "Yurkmez Shaikh",
      "userId": "13761243575530827465"
     },
     "user_tz": -180
    },
    "id": "RE6VbzHuyTEP",
    "outputId": "b90ca634-ede8-488f-bb8c-4543b106d405"
   },
   "outputs": [
    {
     "name": "stderr",
     "output_type": "stream",
     "text": [
      "Обработка данных: 4it [00:00,  8.71it/s]\n"
     ]
    },
    {
     "data": {
      "text/plain": [
       "5000"
      ]
     },
     "execution_count": 6,
     "metadata": {},
     "output_type": "execute_result"
    }
   ],
   "source": [
    "# Загрузка текстов\n",
    "\n",
    "# _______ Параметры ______________\n",
    "chunk_size = 1000 # # Размер чанка при загрузке текстов\n",
    "# Google Colab\n",
    "file_path_data = '/content/drive/My Drive/Example_ML/classification_text/Classifiers/articles.csv'\n",
    "# Локально\n",
    "# file_path_data = 'articles.csv'\n",
    "text_column = \"title\"  # Название колонки с текстами\n",
    "\n",
    "# _________ Загрузка _______________________\n",
    "\n",
    "all_texts = []\n",
    "max_text = 5000 # maximum number of texts !!! Используется в названии файла !!!\n",
    "current_count = 0\n",
    "\n",
    "for chunk in tqdm(pd.read_csv(file_path_data, chunksize=chunk_size), desc=\"Обработка данных\"):\n",
    "    if text_column not in chunk.columns:\n",
    "        print(f\"Ошибка: в CSV нет колонки '{text_column}'. Доступные: {chunk.columns}\")\n",
    "        break\n",
    "\n",
    "    texts = chunk[text_column].dropna().tolist()  # Убираем пустые значения\n",
    "\n",
    "    remaining = max_text - current_count\n",
    "    if remaining <= 0:\n",
    "        break\n",
    "    # Обрезаем чанк, если он превышает лимит\n",
    "    if len(texts) > remaining:\n",
    "        texts = texts[:remaining]\n",
    "    all_texts.extend(texts)  # Объединяем части текста вместе\n",
    "\n",
    "    current_count += len(texts)\n",
    "    if current_count >= max_text:\n",
    "        break\n",
    "\n",
    "len(all_texts) # list"
   ]
  },
  {
   "cell_type": "code",
   "execution_count": 7,
   "metadata": {
    "colab": {
     "base_uri": "https://localhost:8080/"
    },
    "executionInfo": {
     "elapsed": 1083,
     "status": "ok",
     "timestamp": 1745220085967,
     "user": {
      "displayName": "Yurkmez Shaikh",
      "userId": "13761243575530827465"
     },
     "user_tz": -180
    },
    "id": "Z6DgywNFGNhJ",
    "outputId": "c16f1dcc-b1ee-41af-ff88-fa37a499bd6a"
   },
   "outputs": [
    {
     "name": "stdout",
     "output_type": "stream",
     "text": [
      "Форма объединённого массива: (5000, 312)\n"
     ]
    }
   ],
   "source": [
    "# Загрузка эмбеддингов\n",
    "\n",
    "# _________ Параметры ____________\n",
    "batch_size = 10000  # Размер батча\n",
    "\n",
    "# Google Colab\n",
    "file_path_embeddings = f'/content/drive/My Drive/Example_ML/classification_text/Classifiers/Data/embeddings_rubert-tiny2_text_{max_text}.npy'  # Путь к файлу эмбеддингов\n",
    "# Локально\n",
    "# file_path_embeddings = './Data/embeddings_rubert-tiny2.npy'  # Файл с эмбеддингами\n",
    "\n",
    "# _________ Загрузка _______________________\n",
    "# Загружаем файл в режиме \"чтение без загрузки в память\"\n",
    "embeddings_mmap = np.load(file_path_embeddings, mmap_mode=\"r\")\n",
    "\n",
    "num_samples = embeddings_mmap.shape[0] # Определяем количество примеров (должно быть = max_text)\n",
    "all_embeddings = [] # Пустой список для хранения частей эмбеддингов\n",
    "\n",
    "# Читаем файл частями\n",
    "for i in range(0, num_samples, batch_size):\n",
    "    batch = embeddings_mmap[i : i + batch_size]  # Загружаем батч\n",
    "    all_embeddings.append(batch)  # Добавляем в список\n",
    "\n",
    "embeddings = np.vstack(all_embeddings) # Объединяем все части в один массив NumPy\n",
    "\n",
    "print(f\"Форма объединённого массива: {embeddings.shape}\") # Проверяем размер итогового массива"
   ]
  },
  {
   "cell_type": "markdown",
   "metadata": {
    "id": "7wV9MMx1CIUb"
   },
   "source": [
    "### _анализ данных_ <font color='orange'><small>(дендрограмма, среднее расстояние между точками, проверка эмбеддингов (нормализация)</small>)."
   ]
  },
  {
   "cell_type": "code",
   "execution_count": null,
   "metadata": {
    "colab": {
     "base_uri": "https://localhost:8080/",
     "height": 440
    },
    "id": "Vi_qGAraCSsF",
    "outputId": "cc81641d-b4b8-4b71-cfc7-2c90a191beb3"
   },
   "outputs": [
    {
     "data": {
      "image/png": "[encoded data removed]",
      "text/plain": [
       "<Figure size 1000x500 with 1 Axes>"
      ]
     },
     "metadata": {},
     "output_type": "display_data"
    }
   ],
   "source": [
    "# _________Построением дендрограммы_________\n",
    "# 📌 Позволяет прикинуть, на сколько классов целесообразно разбить данные.\n",
    "import scipy.cluster.hierarchy as sch\n",
    "\n",
    "plt.figure(figsize=(10, 5))\n",
    "sch.dendrogram(sch.linkage(embeddings[:100], method='average', metric='cosine'))\n",
    "\n",
    "# Добавляем горизонтальную линию на уровне ...\n",
    "plt.axhline(y=0.26, color='r', linestyle='--')  # Порог для разбиения\n",
    "\n",
    "plt.show()"
   ]
  },
  {
   "cell_type": "code",
   "execution_count": null,
   "metadata": {
    "colab": {
     "base_uri": "https://localhost:8080/"
    },
    "id": "V7Dvqnu93kCJ",
    "outputId": "89924156-0786-45de-ee11-d509e7d188c3"
   },
   "outputs": [
    {
     "name": "stdout",
     "output_type": "stream",
     "text": [
      "Среднее расстояние между точками: 0.5162\n"
     ]
    }
   ],
   "source": [
    "# _________Среднее расстояние между точками.___________\n",
    "# 📌 Для DBSCAN это дает ориентир для выбора значения `eps` - параметра окна, в котором подсчитывается число \"соседних\" точек.\n",
    "from sklearn.neighbors import NearestNeighbors\n",
    "\n",
    "neighbors = NearestNeighbors(n_neighbors=5) #  ищем 5 ближайших соседей для каждой точки.\n",
    "neighbors.fit(embeddings)                   #  \"запоминаем\" точки эмбеддингов в алгоритме ближайших соседей.\n",
    "#  вычисляем расстояния до n_neighbors ближайших точек.\n",
    "distances, _ = neighbors.kneighbors(embeddings)\n",
    "avg_distance = np.mean(distances[:, -1])  # Среднее расстояние до 5-го соседа\n",
    "print(f\"Среднее расстояние между точками: {avg_distance:.4f}\")\n",
    "# Среднее расстояние между точками: 0.4798"
   ]
  },
  {
   "cell_type": "markdown",
   "metadata": {
    "id": "uVZrY5B73kCK"
   },
   "source": [
    "<small>Что делает `distances, _ = neighbors.kneighbors(embeddings)`  \n",
    "В distances[i, j] хранится расстояние от i-го эмбеддинга текста до его j-го ближайшего соседа. Пример: distances[:]  \n",
    "```\n",
    "array([\n",
    "    [0.00, 0.32, 0.45, 0.51, 0.67],  # 5 соседей для 1-го эмбеддинга текста\n",
    "    [0.00, 0.28, 0.41, 0.55, 0.70],  # 5 соседей для 2-го эмбеддингатекста\n",
    "    ...\n",
    "    [0.00, 0.30, 0.49, 0.60, 0.80]   # 5 соседей для 27000-го эмбеддинга текста\n",
    "])\n",
    "```\n",
    "distances[i, -1] — расстояние до самого дальнего из 5 соседей.</small>"
   ]
  },
  {
   "cell_type": "code",
   "execution_count": null,
   "metadata": {
    "id": "0hq2Y_So3kCK"
   },
   "outputs": [],
   "source": [
    "# Нормализация эмбеддингов (проверка)\n",
    "norms = np.linalg.norm(embeddings, axis=1) # Вычислим нормы всех эмбеддингов\n",
    "\n",
    "print(f\"Min norm: {np.min(norms)}\")\n",
    "print(f\"Max norm: {np.max(norms)}\")\n",
    "print(f\"Mean norm: {np.mean(norms)}\")"
   ]
  },
  {
   "cell_type": "markdown",
   "metadata": {
    "id": "XshNTkKm56Ut"
   },
   "source": [
    "### _подбор к-ва классов по методу \"локтя\"_"
   ]
  },
  {
   "cell_type": "code",
   "execution_count": null,
   "metadata": {
    "colab": {
     "base_uri": "https://localhost:8080/",
     "height": 300
    },
    "id": "vfYGcS8kLGH8",
    "outputId": "10935553-c0dd-4b8a-c3bf-cbbfbcb52080"
   },
   "outputs": [
    {
     "data": {
      "application/vnd.google.colaboratory.intrinsic+json": {
       "summary": "{\n  \"name\": \"pd\",\n  \"rows\": 8,\n  \"fields\": [\n    {\n      \"column\": \"k\",\n      \"properties\": {\n        \"dtype\": \"number\",\n        \"std\": 2,\n        \"min\": 4,\n        \"max\": 11,\n        \"num_unique_values\": 8,\n        \"samples\": [\n          5,\n          9,\n          4\n        ],\n        \"semantic_type\": \"\",\n        \"description\": \"\"\n      }\n    },\n    {\n      \"column\": \"diff\",\n      \"properties\": {\n        \"dtype\": \"number\",\n        \"std\": 9.144326066281911,\n        \"min\": -36.6661376953125,\n        \"max\": -10.2996826171875,\n        \"num_unique_values\": 7,\n        \"samples\": [\n          -36.6661376953125,\n          -22.37939453125,\n          -11.7122802734375\n        ],\n        \"semantic_type\": \"\",\n        \"description\": \"\"\n      }\n    }\n  ]\n}",
       "type": "dataframe"
      },
      "text/html": [
       "\n",
       "  <div id=\"df-9dda0bc1-21f2-4f82-be80-14fd6e2f7d22\" class=\"colab-df-container\">\n",
       "    <div>\n",
       "<style scoped>\n",
       "    .dataframe tbody tr th:only-of-type {\n",
       "        vertical-align: middle;\n",
       "    }\n",
       "\n",
       "    .dataframe tbody tr th {\n",
       "        vertical-align: top;\n",
       "    }\n",
       "\n",
       "    .dataframe thead th {\n",
       "        text-align: right;\n",
       "    }\n",
       "</style>\n",
       "<table border=\"1\" class=\"dataframe\">\n",
       "  <thead>\n",
       "    <tr style=\"text-align: right;\">\n",
       "      <th></th>\n",
       "      <th>k</th>\n",
       "      <th>diff</th>\n",
       "    </tr>\n",
       "  </thead>\n",
       "  <tbody>\n",
       "    <tr>\n",
       "      <th>0</th>\n",
       "      <td>4</td>\n",
       "      <td>NaN</td>\n",
       "    </tr>\n",
       "    <tr>\n",
       "      <th>1</th>\n",
       "      <td>5</td>\n",
       "      <td>-36.666138</td>\n",
       "    </tr>\n",
       "    <tr>\n",
       "      <th>2</th>\n",
       "      <td>6</td>\n",
       "      <td>-22.379395</td>\n",
       "    </tr>\n",
       "    <tr>\n",
       "      <th>3</th>\n",
       "      <td>7</td>\n",
       "      <td>-18.052124</td>\n",
       "    </tr>\n",
       "    <tr>\n",
       "      <th>4</th>\n",
       "      <td>8</td>\n",
       "      <td>-14.279663</td>\n",
       "    </tr>\n",
       "    <tr>\n",
       "      <th>5</th>\n",
       "      <td>9</td>\n",
       "      <td>-13.361572</td>\n",
       "    </tr>\n",
       "    <tr>\n",
       "      <th>6</th>\n",
       "      <td>10</td>\n",
       "      <td>-11.712280</td>\n",
       "    </tr>\n",
       "    <tr>\n",
       "      <th>7</th>\n",
       "      <td>11</td>\n",
       "      <td>-10.299683</td>\n",
       "    </tr>\n",
       "  </tbody>\n",
       "</table>\n",
       "</div>\n",
       "    <div class=\"colab-df-buttons\">\n",
       "\n",
       "  <div class=\"colab-df-container\">\n",
       "    <button class=\"colab-df-convert\" onclick=\"convertToInteractive('df-9dda0bc1-21f2-4f82-be80-14fd6e2f7d22')\"\n",
       "            title=\"Convert this dataframe to an interactive table.\"\n",
       "            style=\"display:none;\">\n",
       "\n",
       "  <svg xmlns=\"http://www.w3.org/2000/svg\" height=\"24px\" viewBox=\"0 -960 960 960\">\n",
       "    <path d=\"M120-120v-720h720v720H120Zm60-500h600v-160H180v160Zm220 220h160v-160H400v160Zm0 220h160v-160H400v160ZM180-400h160v-160H180v160Zm440 0h160v-160H620v160ZM180-180h160v-160H180v160Zm440 0h160v-160H620v160Z\"/>\n",
       "  </svg>\n",
       "    </button>\n",
       "\n",
       "  <style>\n",
       "    .colab-df-container {\n",
       "      display:flex;\n",
       "      gap: 12px;\n",
       "    }\n",
       "\n",
       "    .colab-df-convert {\n",
       "      background-color: #E8F0FE;\n",
       "      border: none;\n",
       "      border-radius: 50%;\n",
       "      cursor: pointer;\n",
       "      display: none;\n",
       "      fill: #1967D2;\n",
       "      height: 32px;\n",
       "      padding: 0 0 0 0;\n",
       "      width: 32px;\n",
       "    }\n",
       "\n",
       "    .colab-df-convert:hover {\n",
       "      background-color: #E2EBFA;\n",
       "      box-shadow: 0px 1px 2px rgba(60, 64, 67, 0.3), 0px 1px 3px 1px rgba(60, 64, 67, 0.15);\n",
       "      fill: #174EA6;\n",
       "    }\n",
       "\n",
       "    .colab-df-buttons div {\n",
       "      margin-bottom: 4px;\n",
       "    }\n",
       "\n",
       "    [theme=dark] .colab-df-convert {\n",
       "      background-color: #3B4455;\n",
       "      fill: #D2E3FC;\n",
       "    }\n",
       "\n",
       "    [theme=dark] .colab-df-convert:hover {\n",
       "      background-color: #434B5C;\n",
       "      box-shadow: 0px 1px 3px 1px rgba(0, 0, 0, 0.15);\n",
       "      filter: drop-shadow(0px 1px 2px rgba(0, 0, 0, 0.3));\n",
       "      fill: #FFFFFF;\n",
       "    }\n",
       "  </style>\n",
       "\n",
       "    <script>\n",
       "      const buttonEl =\n",
       "        document.querySelector('#df-9dda0bc1-21f2-4f82-be80-14fd6e2f7d22 button.colab-df-convert');\n",
       "      buttonEl.style.display =\n",
       "        google.colab.kernel.accessAllowed ? 'block' : 'none';\n",
       "\n",
       "      async function convertToInteractive(key) {\n",
       "        const element = document.querySelector('#df-9dda0bc1-21f2-4f82-be80-14fd6e2f7d22');\n",
       "        const dataTable =\n",
       "          await google.colab.kernel.invokeFunction('convertToInteractive',\n",
       "                                                    [key], {});\n",
       "        if (!dataTable) return;\n",
       "\n",
       "        const docLinkHtml = 'Like what you see? Visit the ' +\n",
       "          '<a target=\"_blank\" href=https://colab.research.google.com/notebooks/data_table.ipynb>data table notebook</a>'\n",
       "          + ' to learn more about interactive tables.';\n",
       "        element.innerHTML = '';\n",
       "        dataTable['output_type'] = 'display_data';\n",
       "        await google.colab.output.renderOutput(dataTable, element);\n",
       "        const docLink = document.createElement('div');\n",
       "        docLink.innerHTML = docLinkHtml;\n",
       "        element.appendChild(docLink);\n",
       "      }\n",
       "    </script>\n",
       "  </div>\n",
       "\n",
       "\n",
       "<div id=\"df-fd0b63cd-9ad1-4607-a85b-e1295abac555\">\n",
       "  <button class=\"colab-df-quickchart\" onclick=\"quickchart('df-fd0b63cd-9ad1-4607-a85b-e1295abac555')\"\n",
       "            title=\"Suggest charts\"\n",
       "            style=\"display:none;\">\n",
       "\n",
       "<svg xmlns=\"http://www.w3.org/2000/svg\" height=\"24px\"viewBox=\"0 0 24 24\"\n",
       "     width=\"24px\">\n",
       "    <g>\n",
       "        <path d=\"M19 3H5c-1.1 0-2 .9-2 2v14c0 1.1.9 2 2 2h14c1.1 0 2-.9 2-2V5c0-1.1-.9-2-2-2zM9 17H7v-7h2v7zm4 0h-2V7h2v10zm4 0h-2v-4h2v4z\"/>\n",
       "    </g>\n",
       "</svg>\n",
       "  </button>\n",
       "\n",
       "<style>\n",
       "  .colab-df-quickchart {\n",
       "      --bg-color: #E8F0FE;\n",
       "      --fill-color: #1967D2;\n",
       "      --hover-bg-color: #E2EBFA;\n",
       "      --hover-fill-color: #174EA6;\n",
       "      --disabled-fill-color: #AAA;\n",
       "      --disabled-bg-color: #DDD;\n",
       "  }\n",
       "\n",
       "  [theme=dark] .colab-df-quickchart {\n",
       "      --bg-color: #3B4455;\n",
       "      --fill-color: #D2E3FC;\n",
       "      --hover-bg-color: #434B5C;\n",
       "      --hover-fill-color: #FFFFFF;\n",
       "      --disabled-bg-color: #3B4455;\n",
       "      --disabled-fill-color: #666;\n",
       "  }\n",
       "\n",
       "  .colab-df-quickchart {\n",
       "    background-color: var(--bg-color);\n",
       "    border: none;\n",
       "    border-radius: 50%;\n",
       "    cursor: pointer;\n",
       "    display: none;\n",
       "    fill: var(--fill-color);\n",
       "    height: 32px;\n",
       "    padding: 0;\n",
       "    width: 32px;\n",
       "  }\n",
       "\n",
       "  .colab-df-quickchart:hover {\n",
       "    background-color: var(--hover-bg-color);\n",
       "    box-shadow: 0 1px 2px rgba(60, 64, 67, 0.3), 0 1px 3px 1px rgba(60, 64, 67, 0.15);\n",
       "    fill: var(--button-hover-fill-color);\n",
       "  }\n",
       "\n",
       "  .colab-df-quickchart-complete:disabled,\n",
       "  .colab-df-quickchart-complete:disabled:hover {\n",
       "    background-color: var(--disabled-bg-color);\n",
       "    fill: var(--disabled-fill-color);\n",
       "    box-shadow: none;\n",
       "  }\n",
       "\n",
       "  .colab-df-spinner {\n",
       "    border: 2px solid var(--fill-color);\n",
       "    border-color: transparent;\n",
       "    border-bottom-color: var(--fill-color);\n",
       "    animation:\n",
       "      spin 1s steps(1) infinite;\n",
       "  }\n",
       "\n",
       "  @keyframes spin {\n",
       "    0% {\n",
       "      border-color: transparent;\n",
       "      border-bottom-color: var(--fill-color);\n",
       "      border-left-color: var(--fill-color);\n",
       "    }\n",
       "    20% {\n",
       "      border-color: transparent;\n",
       "      border-left-color: var(--fill-color);\n",
       "      border-top-color: var(--fill-color);\n",
       "    }\n",
       "    30% {\n",
       "      border-color: transparent;\n",
       "      border-left-color: var(--fill-color);\n",
       "      border-top-color: var(--fill-color);\n",
       "      border-right-color: var(--fill-color);\n",
       "    }\n",
       "    40% {\n",
       "      border-color: transparent;\n",
       "      border-right-color: var(--fill-color);\n",
       "      border-top-color: var(--fill-color);\n",
       "    }\n",
       "    60% {\n",
       "      border-color: transparent;\n",
       "      border-right-color: var(--fill-color);\n",
       "    }\n",
       "    80% {\n",
       "      border-color: transparent;\n",
       "      border-right-color: var(--fill-color);\n",
       "      border-bottom-color: var(--fill-color);\n",
       "    }\n",
       "    90% {\n",
       "      border-color: transparent;\n",
       "      border-bottom-color: var(--fill-color);\n",
       "    }\n",
       "  }\n",
       "</style>\n",
       "\n",
       "  <script>\n",
       "    async function quickchart(key) {\n",
       "      const quickchartButtonEl =\n",
       "        document.querySelector('#' + key + ' button');\n",
       "      quickchartButtonEl.disabled = true;  // To prevent multiple clicks.\n",
       "      quickchartButtonEl.classList.add('colab-df-spinner');\n",
       "      try {\n",
       "        const charts = await google.colab.kernel.invokeFunction(\n",
       "            'suggestCharts', [key], {});\n",
       "      } catch (error) {\n",
       "        console.error('Error during call to suggestCharts:', error);\n",
       "      }\n",
       "      quickchartButtonEl.classList.remove('colab-df-spinner');\n",
       "      quickchartButtonEl.classList.add('colab-df-quickchart-complete');\n",
       "    }\n",
       "    (() => {\n",
       "      let quickchartButtonEl =\n",
       "        document.querySelector('#df-fd0b63cd-9ad1-4607-a85b-e1295abac555 button');\n",
       "      quickchartButtonEl.style.display =\n",
       "        google.colab.kernel.accessAllowed ? 'block' : 'none';\n",
       "    })();\n",
       "  </script>\n",
       "</div>\n",
       "\n",
       "    </div>\n",
       "  </div>\n"
      ],
      "text/plain": [
       "    k       diff\n",
       "0   4        NaN\n",
       "1   5 -36.666138\n",
       "2   6 -22.379395\n",
       "3   7 -18.052124\n",
       "4   8 -14.279663\n",
       "5   9 -13.361572\n",
       "6  10 -11.712280\n",
       "7  11 -10.299683"
      ]
     },
     "execution_count": 20,
     "metadata": {},
     "output_type": "execute_result"
    }
   ],
   "source": [
    "# Выбор оптимального к-во классов по методу локтя\n",
    "ssd = []\n",
    "\n",
    "start = 4\n",
    "finish = 12\n",
    "\n",
    "for n_class in range(start, finish):\n",
    "    model_test = KMeans(n_class, random_state=42, n_init=11)\n",
    "    model_test.fit(embeddings)\n",
    "    ssd.append(model_test.inertia_) # Сумма квадратов расстяний от точек до центров кластеров\n",
    "pd.DataFrame(data=zip(range(start, finish), pd.Series(ssd).diff()), columns=[\"k\", \"diff\"])"
   ]
  },
  {
   "cell_type": "code",
   "execution_count": null,
   "metadata": {
    "colab": {
     "base_uri": "https://localhost:8080/",
     "height": 472
    },
    "id": "BYnGlinhIpCB",
    "outputId": "0a8a53ac-ea27-4e13-99cd-c5d5021f1042"
   },
   "outputs": [
    {
     "data": {
      "image/png": "[encoded data removed]",
      "text/plain": [
       "<Figure size 640x480 with 1 Axes>"
      ]
     },
     "metadata": {},
     "output_type": "display_data"
    }
   ],
   "source": [
    "import matplotlib.pyplot as plt\n",
    "plt.plot(range(4, 12), ssd, marker='o')\n",
    "plt.xlabel('Number of clusters')\n",
    "plt.ylabel('SSD')\n",
    "plt.title('Elbow Method')\n",
    "plt.show()"
   ]
  },
  {
   "cell_type": "markdown",
   "metadata": {
    "id": "ERxz5vcK6WIt"
   },
   "source": [
    "### _кластеризация_"
   ]
  },
  {
   "cell_type": "code",
   "execution_count": 8,
   "metadata": {
    "colab": {
     "base_uri": "https://localhost:8080/"
    },
    "executionInfo": {
     "elapsed": 3767,
     "status": "ok",
     "timestamp": 1745220102219,
     "user": {
      "displayName": "Yurkmez Shaikh",
      "userId": "13761243575530827465"
     },
     "user_tz": -180
    },
    "id": "tOBg5s9lMPzU",
    "outputId": "3d37dc3c-cc30-4b1f-a812-1f7dda829ce7"
   },
   "outputs": [
    {
     "name": "stdout",
     "output_type": "stream",
     "text": [
      "✅ Форма clusters - (5000,)\n",
      "✅ Количество clusters - 10.\n"
     ]
    }
   ],
   "source": [
    "# Кластеризация KMeans\n",
    "num_clusters = 10 # См., что показал метод локтя\n",
    "\n",
    "kmeans = KMeans(n_clusters=num_clusters, random_state=42, n_init=20)\n",
    "clusters = kmeans.fit_predict(embeddings) # fit_predict сразу выполняет обучение (fit) + предсказание (predict) кластеров.\n",
    "\n",
    "print(f\"✅ Форма clusters - {clusters.shape}\")\n",
    "print(f\"✅ Количество clusters - {len(set(clusters))}.\")\n",
    "# print(clusters_KMeans_short)"
   ]
  },
  {
   "cell_type": "code",
   "execution_count": 9,
   "metadata": {
    "colab": {
     "base_uri": "https://localhost:8080/"
    },
    "executionInfo": {
     "elapsed": 12,
     "status": "ok",
     "timestamp": 1745220109335,
     "user": {
      "displayName": "Yurkmez Shaikh",
      "userId": "13761243575530827465"
     },
     "user_tz": -180
    },
    "id": "AuGlpV75MdJo",
    "outputId": "aaa58a0d-dadb-4b95-8f0a-5e73c44bd152"
   },
   "outputs": [
    {
     "data": {
      "text/plain": [
       "Counter({np.int32(8): 542,\n",
       "         np.int32(7): 440,\n",
       "         np.int32(3): 961,\n",
       "         np.int32(6): 600,\n",
       "         np.int32(5): 412,\n",
       "         np.int32(1): 535,\n",
       "         np.int32(4): 492,\n",
       "         np.int32(0): 246,\n",
       "         np.int32(9): 368,\n",
       "         np.int32(2): 404})"
      ]
     },
     "execution_count": 9,
     "metadata": {},
     "output_type": "execute_result"
    }
   ],
   "source": [
    "# Количественное распределение текстов по кластерам:\n",
    "from collections import Counter\n",
    "counts_cluster = Counter(clusters)\n",
    "counts_cluster"
   ]
  },
  {
   "cell_type": "code",
   "execution_count": 10,
   "metadata": {
    "colab": {
     "base_uri": "https://localhost:8080/",
     "height": 206
    },
    "executionInfo": {
     "elapsed": 172,
     "status": "ok",
     "timestamp": 1745220118547,
     "user": {
      "displayName": "Yurkmez Shaikh",
      "userId": "13761243575530827465"
     },
     "user_tz": -180
    },
    "id": "ZdzFUdOBwSKw",
    "outputId": "d816a805-29bb-4073-a285-c5da15c1a398"
   },
   "outputs": [
    {
     "data": {
      "application/vnd.google.colaboratory.intrinsic+json": {
       "summary": "{\n  \"name\": \"df\",\n  \"rows\": 5000,\n  \"fields\": [\n    {\n      \"column\": \"text\",\n      \"properties\": {\n        \"dtype\": \"string\",\n        \"num_unique_values\": 5000,\n        \"samples\": [\n          \"\\u041d\\u0430\\u043f\\u0430\\u0434\\u0430\\u044e\\u0449\\u0438\\u0439 \\u00ab\\u0411\\u0430\\u0440\\u0441\\u0435\\u043b\\u043e\\u043d\\u044b\\u00bb \\u0425\\u0435\\u0440\\u0430\\u0440\\u0434 \\u0414\\u0435\\u0443\\u043b\\u043e\\u0444\\u0435\\u0443 \\u043f\\u0435\\u0440\\u0435\\u0448\\u0435\\u043b \\u0432 \\u00ab\\u042d\\u0432\\u0435\\u0440\\u0442\\u043e\\u043d\\u00bb \\u043d\\u0430 \\u043f\\u0440\\u0430\\u0432\\u0430\\u0445 \\u0430\\u0440\\u0435\\u043d\\u0434\\u044b, \\u0441\\u043e\\u043e\\u0431\\u0449\\u0430\\u0435\\u0442n\\u043e\\u0444\\u0438\\u0446\\u0438\\u0430\\u043b\\u044c\\u043d\\u044b\\u0439 \\u0441\\u0430\\u0439\\u0442n\\u043b\\u0438\\u0432\\u0435\\u0440\\u043f\\u0443\\u043b\\u044c\\u0441\\u043a\\u043e\\u0433\\u043e \\u043a\\u043b\\u0443\\u0431\\u0430. \\u0410\\u0440\\u0435\\u043d\\u0434\\u043d\\u043e\\u0435 \\u0441\\u043e\\u0433\\u043b\\u0430\\u0448\\u0435\\u043d\\u0438\\u0435 \\u0440\\u0430\\u0441\\u0441\\u0447\\u0438\\u0442\\u0430\\u043d\\u043e \\u0434\\u043e \\u043a\\u043e\\u043d\\u0446\\u0430 \\u0441\\u0435\\u0437\\u043e\\u043d\\u0430-2013/14.n19-\\u043b\\u0435\\u0442\\u043d\\u0438\\u0439 \\u0438\\u0441\\u043f\\u0430\\u043d\\u0435\\u0446 \\u043c\\u043e\\u0436\\u0435\\u0442 \\u0441\\u044b\\u0433\\u0440\\u0430\\u0442\\u044c \\u043d\\u0430 \\u043e\\u0431\\u043e\\u0438\\u0445 \\u0444\\u043b\\u0430\\u043d\\u0433\\u0430\\u0445 \\u0430\\u0442\\u0430\\u043a\\u0438, \\u0430 \\u0442\\u0430\\u043a\\u0436\\u0435 \\u043d\\u0430 \\u043f\\u043e\\u0437\\u0438\\u0446\\u0438\\u0438 \\u043e\\u0442\\u0442\\u044f\\u043d\\u0443\\u0442\\u043e\\u0433\\u043e \\u0444\\u043e\\u0440\\u0432\\u0430\\u0440\\u0434\\u0430. \\u0412 \\u043f\\u0440\\u043e\\u0448\\u043b\\u043e\\u043c \\u0441\\u0435\\u0437\\u043e\\u043d\\u0435 \\u0414\\u0435\\u0443\\u043b\\u043e\\u0444\\u0435\\u0443, \\u0432\\u044b\\u0441\\u0442\\u0443\\u043f\\u0430\\u044f \\u0437\\u0430 \\u00ab\\u0411\\u0430\\u0440\\u0441\\u0435\\u043b\\u043e\\u043d\\u0443 \\u0411\\u00bb, \\u043f\\u0440\\u043e\\u0432\\u0435\\u043b 33 \\u043c\\u0430\\u0442\\u0447\\u0430 \\u0438 \\u0437\\u0430\\u0431\\u0438\\u043b 18 \\u043c\\u044f\\u0447\\u0435\\u0439.n\\u0413\\u043b\\u0430\\u0432\\u043d\\u044b\\u043c \\u0442\\u0440\\u0435\\u043d\\u0435\\u0440\\u043e\\u043c \\u00ab\\u042d\\u0432\\u0435\\u0440\\u0442\\u043e\\u043d\\u0430\\u00bb \\u0441 \\u043d\\u044b\\u043d\\u0435\\u0448\\u043d\\u0435\\u0433\\u043e \\u0441\\u0435\\u0437\\u043e\\u043d\\u0430 \\u0441\\u0442\\u0430\\u043b \\u0438\\u0441\\u043f\\u0430\\u043d\\u0435\\u0446 \\u0420\\u043e\\u0431\\u0435\\u0440\\u0442\\u043e \\u041c\\u0430\\u0440\\u0442\\u0438\\u043d\\u0435\\u0441.\",\n          \"\\u0417\\u0430\\u0449\\u0438\\u0442\\u043d\\u0438\\u043a \\u00ab\\u0413\\u0430\\u0437\\u043f\\u0440\\u043e\\u043c\\u0430-\\u042e\\u0413\\u0420\\u042b\\u00bb \\u0410\\u043b\\u0435\\u043a\\u0441\\u0430\\u043d\\u0434\\u0440 \\u041a\\u043e\\u043f\\u0435\\u0439\\u043a\\u0438\\u043d \\u0440\\u0430\\u0441\\u0441\\u043a\\u0430\\u0437\\u0430\\u043b \\u043e \\u043f\\u0440\\u0438\\u0447\\u0438\\u043d\\u0430\\u0445 \\u043f\\u043e\\u0440\\u0430\\u0436\\u0435\\u043d\\u0438\\u044f \\u0441\\u0432\\u043e\\u0435\\u0439 \\u043a\\u043e\\u043c\\u0430\\u043d\\u0434\\u044b \\u0432 \\u043f\\u0435\\u0440\\u0432\\u043e\\u043c \\u0444\\u0438\\u043d\\u0430\\u043b\\u044c\\u043d\\u043e\\u043c \\u043c\\u0430\\u0442\\u0447\\u0435 \\u043c\\u0438\\u043d\\u0438-\\u0444\\u0443\\u0442\\u0431\\u043e\\u043b\\u044c\\u043d\\u043e\\u0439 \\u0421\\u0443\\u043f\\u0435\\u0440\\u043b\\u0438\\u0433\\u0438 \\u043e\\u0442 \\u043f\\u043e\\u0434\\u043c\\u043e\\u0441\\u043a\\u043e\\u0432\\u043d\\u043e\\u0433\\u043e \\u00ab\\u0414\\u0438\\u043d\\u0430\\u043c\\u043e\\u00bb. \\u0412\\u0441\\u0442\\u0440\\u0435\\u0447\\u0430 \\u0437\\u0430\\u0432\\u0435\\u0440\\u0448\\u0438\\u043b\\u0430\\u0441\\u044c \\u0441\\u043e \\u0441\\u0447\\u0435\\u0442\\u043e\\u043c 6:1 \\u0432 \\u043f\\u043e\\u043b\\u044c\\u0437\\u0443 \\u0445\\u043e\\u0437\\u044f\\u0435\\u0432.n\\u00ab\\u0427\\u0435\\u0433\\u043e \\u043d\\u0435 \\u0445\\u0432\\u0430\\u0442\\u0438\\u043b\\u043e \\u043d\\u0430\\u0448\\u0435\\u0439 \\u043a\\u043e\\u043c\\u0430\\u043d\\u0434\\u0435 \\u0447\\u0442\\u043e\\u0431\\u044b \\u043f\\u043e\\u0431\\u0435\\u0434\\u0438\\u0442\\u044c? \\u042f \\u043d\\u0435 \\u0437\\u043d\\u0430\\u044e, \\u0447\\u0435\\u0433\\u043e \\u043d\\u0430\\u043c \\u043d\\u0435 \\u0445\\u0432\\u0430\\u0442\\u0438\\u043b\\u043e, \\u043c\\u044b \\u0431\\u0443\\u0434\\u0435\\u0442 \\u0440\\u0430\\u0437\\u0431\\u0438\\u0440\\u0430\\u0442\\u044c \\u043d\\u0430\\u0448\\u0438 \\u043e\\u0448\\u0438\\u0431\\u043a\\u0438, \\u0441\\u043c\\u043e\\u0442\\u0440\\u0435\\u0442\\u044c \\u0432\\u0438\\u0434\\u0435\\u043e, \\u2014 \\u043f\\u0440\\u0438\\u0432\\u043e\\u0434\\u0438\\u0442 \\u0441\\u043b\\u043e\\u0432\\u0430 \\u0441\\u043f\\u043e\\u0440\\u0442\\u0441\\u043c\\u0435\\u043d\\u0430 \\u043a\\u043e\\u0440\\u0440\\u0435\\u0441\\u043f\\u043e\\u043d\\u0434\\u0435\\u043d\\u0442 \\u00ab\\u0413\\u0430\\u0437\\u0435\\u0442\\u044b.Ru\\u00bb \\u0410\\u0440\\u0442\\u0435\\u043c \\u0417\\u0430\\u0433\\u0443\\u043c\\u0435\\u043d\\u043d\\u043e\\u0432. \\u2014 \\u041d\\u0430\\u0434\\u0435\\u044e\\u0441\\u044c, \\u043c\\u044b \\u0441\\u0443\\u043c\\u0435\\u0435\\u043c \\u0432\\u0441\\u0435 \\u0438\\u0441\\u043f\\u0440\\u0430\\u0432\\u0438\\u0442\\u044c, \\u0442\\u0430\\u043a \\u043a\\u0430\\u043a \\u043f\\u0440\\u0438 \\u0441\\u0447\\u0435\\u0442\\u0435 2:0 \\u0432 \\u0441\\u0435\\u0440\\u0438\\u0438 \\u0443\\u0435\\u0437\\u0436\\u0430\\u0442\\u044c \\u0434\\u043e\\u043c\\u043e\\u0439 \\u0431\\u0443\\u0434\\u0435\\u0442 \\u0442\\u044f\\u0436\\u0435\\u043b\\u043e. \\u041d\\u0435 \\u0437\\u043d\\u0430\\u044e, \\u043f\\u043e\\u0447\\u0435\\u043c\\u0443 \\u043c\\u044b \\u0432\\u044b\\u0434\\u0430\\u043b\\u0438 \\u0434\\u0432\\u0430 \\u0440\\u0430\\u0437\\u043d\\u044b\\u0445 \\u0442\\u0430\\u0439\\u043c\\u0430, \\u043c\\u044b \\u043d\\u0435 \\u0441\\u0442\\u0430\\u043b\\u0438 \\u0434\\u0440\\u0443\\u0433\\u0438\\u043c\\u0438. \\u041f\\u0435\\u0440\\u0435\\u0434 \\u0432\\u0430\\u043c\\u0438 \\u0432\\u0441\\u0435 \\u0442\\u0430 \\u0436\\u0435 \\u043a\\u043e\\u043c\\u0430\\u043d\\u0434\\u0430, \\u043a\\u043e\\u0442\\u043e\\u0440\\u0430\\u044f \\u0445\\u043e\\u0447\\u0435\\u0442 \\u043f\\u043e\\u0431\\u0435\\u0436\\u0434\\u0430\\u0442\\u044c, \\u0447\\u0442\\u043e \\u043c\\u044b \\u043d\\u0435 \\u0440\\u0430\\u0437 \\u043f\\u043e\\u0434\\u0442\\u0432\\u0435\\u0440\\u0436\\u0434\\u0430\\u043b\\u0438 \\u0432 \\u043d\\u044b\\u043d\\u0435\\u0448\\u043d\\u0435\\u043c \\u0441\\u0435\\u0437\\u043e\\u043d\\u0435. \\u041d\\u043e \\u0432\\u0442\\u043e\\u0440\\u043e\\u0439 \\u0433\\u043e\\u043b, \\u043a\\u043e\\u0442\\u043e\\u0440\\u044b\\u0439 \\u043c\\u044b \\u043f\\u0440\\u043e\\u043f\\u0443\\u0441\\u0442\\u0438\\u043b\\u0438 \\u0438\\u0437-\\u0437\\u0430 \\u043c\\u043e\\u0435\\u0439 \\u043e\\u0448\\u0438\\u0431\\u043a\\u0438, \\u043e\\u0447\\u0435\\u043d\\u044c \\u0441\\u0438\\u043b\\u044c\\u043d\\u043e \\u043d\\u0430\\u0441 \\u043d\\u0430\\u0434\\u043b\\u043e\\u043c\\u0438\\u043b. \\u0410 \\u0442\\u0443\\u0442 \\u0435\\u0449\\u0435 \\u0438 \\u0442\\u0440\\u0435\\u0442\\u0438\\u0439 \\u043f\\u043e\\u043b\\u0443\\u0447\\u0438\\u043b\\u0438 \\u0432 \\u0434\\u043e\\u0433\\u043e\\u043d\\u043a\\u0443. \\u0417\\u0430\\u0442\\u0435\\u043c \\u043c\\u044b \\u043f\\u0440\\u043e\\u0441\\u0442\\u043e \\u043d\\u0438\\u0447\\u0435\\u0433\\u043e \\u043d\\u0435 \\u0441\\u043c\\u043e\\u0433\\u043b\\u0438 \\u043f\\u0440\\u043e\\u0442\\u0438\\u0432\\u043e\\u043f\\u043e\\u0441\\u0442\\u0430\\u0432\\u0438\\u0442\\u044c \\u0441\\u043e\\u043f\\u0435\\u0440\\u043d\\u0438\\u043a\\u0443. \\u0422\\u0435\\u043f\\u0435\\u0440\\u044c \\u0431\\u0443\\u0434\\u0435\\u043c \\u0434\\u0443\\u043c\\u0430\\u0442\\u044c, \\u043a\\u0430\\u043a \\u043f\\u0435\\u0440\\u0435\\u043b\\u043e\\u043c\\u0438\\u0442\\u044c \\u0445\\u043e\\u0434 \\u0441\\u0435\\u0440\\u0438\\u0438. \\u0418 \\u043c\\u044b \\u0438 \\u0441\\u043e\\u043f\\u0435\\u0440\\u043d\\u0438\\u043a \\u043f\\u043e\\u0442\\u0440\\u0430\\u0442\\u0438\\u043b\\u0438 \\u043c\\u043d\\u043e\\u0433\\u043e \\u0441\\u0438\\u043b, \\u043d\\u0430\\u043c \\u043d\\u0443\\u0436\\u043d\\u043e \\u043e\\u0442\\u0434\\u043e\\u0445\\u043d\\u0443\\u0442\\u044c. \\u0417\\u0430\\u0432\\u0442\\u0440\\u0430 \\u0432\\u0441\\u0435 \\u0431\\u0443\\u0434\\u0435\\u0442 \\u0437\\u0430\\u0432\\u0438\\u0441\\u0435\\u0442\\u044c \\u043e\\u0442 \\u0442\\u043e\\u0433\\u043e, \\u043a\\u0442\\u043e \\u043a\\u043e\\u0433\\u043e \\u043f\\u0435\\u0440\\u0435\\u0438\\u0433\\u0440\\u0430\\u0435\\u0442 \\u0442\\u0430\\u043a\\u0442\\u0438\\u0447\\u0435\\u0441\\u043a\\u0438\\u00bb.\",\n          \"\\u0411\\u044b\\u0432\\u0448\\u0438\\u0439 \\u0432\\u0438\\u0446\\u0435-\\u043f\\u0440\\u0435\\u0437\\u0438\\u0434\\u0435\\u043d\\u0442 \\u00ab\\u0410\\u0440\\u0441\\u0435\\u043d\\u0430\\u043b\\u0430\\u00bb \\u0414\\u044d\\u0432\\u0438\\u0434 \\u0414\\u0435\\u0439\\u043d \\u0432\\u044b\\u0440\\u0430\\u0437\\u0438\\u043b \\u043f\\u043e\\u0434\\u0434\\u0435\\u0440\\u0436\\u043a\\u0443 \\u0433\\u043b\\u0430\\u0432\\u043d\\u043e\\u043c\\u0443 \\u0442\\u0440\\u0435\\u043d\\u0435\\u0440\\u0443 \\u043b\\u043e\\u043d\\u0434\\u043e\\u043d\\u0441\\u043a\\u043e\\u0439 \\u043a\\u043e\\u043c\\u0430\\u043d\\u0434\\u044b \\u0410\\u0440\\u0441\\u0435\\u043d\\u0443 \\u0412\\u0435\\u043d\\u0433\\u0435\\u0440\\u0443.n\\u00ab\\u042f \\u0434\\u0443\\u043c\\u0430\\u044e, \\u0447\\u0442\\u043e \\u0447\\u0435\\u0442\\u0432\\u0435\\u0440\\u0442\\u043e\\u0435 \\u043c\\u0435\\u0441\\u0442\\u043e \\u043f\\u043e \\u0438\\u0442\\u043e\\u0433\\u0430\\u043c \\u0441\\u0435\\u0437\\u043e\\u043d\\u0430 \\u2014 \\u044d\\u0442\\u043e \\u043f\\u043e\\u0432\\u043e\\u0434 \\u0434\\u043b\\u044f \\u0440\\u0430\\u0434\\u043e\\u0441\\u0442\\u0438, \\u2014 \\u043f\\u0440\\u0438\\u0432\\u043e\\u0434\\u0438\\u0442 \\u0441\\u043b\\u043e\\u0432\\u0430 \\u0414\\u0435\\u0439\\u043d\\u0430nSky Sportsn. \\u2014 \\u0415\\u0449\\u0435 \\u0440\\u0430\\u0437 \\u043f\\u043e \\u043c\\u0430\\u043d\\u043e\\u0432\\u0435\\u043d\\u0438\\u044e \\u0441\\u0432\\u043e\\u0435\\u0439 \\u0432\\u043e\\u043b\\u0448\\u0435\\u0431\\u043d\\u043e\\u0439 \\u043f\\u0430\\u043b\\u043e\\u0447\\u043a\\u0438 \\u0410\\u0440\\u0441\\u0435\\u043d \\u0434\\u043e\\u0431\\u044b\\u043b \\u043a\\u043e\\u043c\\u0430\\u043d\\u0434\\u0435 \\u043c\\u0435\\u0441\\u0442\\u043e \\u0432 \\u041b\\u0438\\u0433\\u0435 \\u0447\\u0435\\u043c\\u043f\\u0438\\u043e\\u043d\\u043e\\u0432, \\u0447\\u0442\\u043e \\u043e\\u043d \\u043f\\u0440\\u043e\\u0434\\u0435\\u043b\\u044b\\u0432\\u0430\\u043b \\u043d\\u0430 \\u043f\\u0440\\u043e\\u0442\\u044f\\u0436\\u0435\\u043d\\u0438\\u0438 \\u043f\\u043e\\u0441\\u043b\\u0435\\u0434\\u043d\\u0438\\u0445 16 \\u043b\\u0435\\u0442. \\u0418 \\u044d\\u0442\\u043e \\u043e\\u0442\\u043b\\u0438\\u0447\\u043d\\u044b\\u0439 \\u0440\\u0435\\u0437\\u0443\\u043b\\u044c\\u0442\\u0430\\u0442, \\u043f\\u043e\\u0442\\u043e\\u043c\\u0443 \\u0447\\u0442\\u043e \\u0441\\u0435\\u0439\\u0447\\u0430\\u0441 \\u0432 \\u0435\\u0433\\u043e \\u0440\\u0430\\u0441\\u043f\\u043e\\u0440\\u044f\\u0436\\u0435\\u043d\\u0438\\u0438 \\u043d\\u0435 \\u0441\\u0430\\u043c\\u044b\\u0439 \\u043a\\u043b\\u0430\\u0441\\u0441\\u043d\\u044b\\u0439 \\u0441\\u043e\\u0441\\u0442\\u0430\\u0432 \\u0438\\u0437 \\u043a\\u043e\\u0433\\u0434\\u0430-\\u043b\\u0438\\u0431\\u043e \\u0438\\u043c\\u0435\\u0432\\u0448\\u0438\\u0445\\u0441\\u044f. \\u041e\\u043d\\u0438 \\u0431\\u0435\\u0437\\u0443\\u0441\\u043b\\u043e\\u0432\\u043d\\u043e \\u0442\\u0430\\u043b\\u0430\\u043d\\u0442\\u043b\\u0438\\u0432\\u044b, \\u043d\\u043e, \\u043f\\u043e\\u043b\\u0430\\u0433\\u0430\\u044e, \\u0438\\u043c\\u0435\\u043d\\u043d\\u043e \\u0445\\u043e\\u0440\\u043e\\u0448\\u0430\\u044f \\u0440\\u0430\\u0431\\u043e\\u0442\\u0430 \\u0412\\u0435\\u043d\\u0433\\u0435\\u0440\\u0430 \\u0441\\u043e \\u0441\\u0432\\u043e\\u0438\\u043c\\u0438 \\u043f\\u043e\\u0434\\u043e\\u043f\\u0435\\u0447\\u043d\\u044b\\u043c\\u0438 \\u043f\\u043e\\u0437\\u0432\\u043e\\u043b\\u0438\\u043b\\u0430 \\u00ab\\u043a\\u0430\\u043d\\u043e\\u043d\\u0438\\u0440\\u0430\\u043c\\u00bb \\u043e\\u0444\\u043e\\u0440\\u043c\\u0438\\u0442\\u044c \\u043f\\u0443\\u0442\\u0435\\u0432\\u043a\\u0443 \\u041b\\u0438\\u0433\\u0443 \\u0447\\u0435\\u043c\\u043f\\u0438\\u043e\\u043d\\u043e\\u0432.\\u0414\\u043b\\u044f \\u043c\\u043d\\u043e\\u0433\\u0438\\u0445 \\u0431\\u043e\\u043b\\u0435\\u043b\\u044c\\u0449\\u0438\\u043a\\u043e\\u0432 \\u00ab\\u0410\\u0440\\u0441\\u0435\\u043d\\u0430\\u043b\\u0430\\u00bb \\u044d\\u0442\\u043e\\u0433\\u043e \\u043d\\u0435\\u0434\\u043e\\u0441\\u0442\\u0430\\u0442\\u043e\\u0447\\u043d\\u043e, \\u0432\\u0435\\u0434\\u044c \\u043a\\u043e\\u043c\\u0430\\u043d\\u0434\\u0430 \\u0444\\u0438\\u043d\\u0438\\u0448\\u0438\\u0440\\u043e\\u0432\\u0430\\u043b\\u0430 \\u0441 \\u043e\\u0442\\u0441\\u0442\\u0430\\u0432\\u0430\\u043d\\u0438\\u0435\\u043c \\u0432 16 \\u043e\\u0447\\u043a\\u043e\\u0432 \\u043e\\u0442 \\u00ab\\u041c\\u0430\\u043d\\u0447\\u0435\\u0441\\u0442\\u0435\\u0440 \\u042e\\u043d\\u0430\\u0439\\u0442\\u0435\\u0434\\u00bb, \\u0430 \\u043d\\u0430\\u0437\\u0432\\u0430\\u0442\\u044c \\u044d\\u0442\\u043e \\u0443\\u0441\\u043f\\u0435\\u0445\\u043e\\u043c \\u043d\\u0435\\u043b\\u044c\\u0437\\u044f. \\u042f \\u0437\\u043d\\u0430\\u044e, \\u0447\\u0442\\u043e \\u0410\\u0440\\u0441\\u0435\\u043d \\u043f\\u043e\\u0441\\u0442\\u0430\\u0440\\u0430\\u0435\\u0442\\u0441\\u044f \\u0443\\u0441\\u0438\\u043b\\u0438\\u0442\\u044c \\u043a\\u043e\\u043c\\u0430\\u043d\\u0434\\u0443, \\u0435\\u0441\\u043b\\u0438 \\u0443 \\u043d\\u0435\\u0433\\u043e \\u0431\\u0443\\u0434\\u0435\\u0442 \\u0432\\u043e\\u0437\\u043c\\u043e\\u0436\\u043d\\u043e\\u0441\\u0442\\u044c. \\u042d\\u0442\\u043e \\u0437\\u0430\\u0434\\u0430\\u0447\\u0430 \\u0441\\u043a\\u0430\\u0443\\u0442\\u0441\\u043a\\u043e\\u0439 \\u0441\\u0435\\u0442\\u0438, \\u0440\\u0430\\u0431\\u043e\\u0442\\u0430\\u044e\\u0449\\u0435\\u0439 \\u043f\\u043e \\u0432\\u0441\\u0435\\u043c\\u0443 \\u043c\\u0438\\u0440\\u0443 \\u2014 \\u043e\\u043d\\u0438 \\u043f\\u043e\\u0434\\u044b\\u0441\\u043a\\u0438\\u0432\\u0430\\u044e\\u0442 \\u0434\\u043b\\u044f \\u043d\\u0435\\u0433\\u043e \\u043b\\u0443\\u0447\\u0448\\u0438\\u0445 \\u0438\\u0433\\u0440\\u043e\\u043a\\u043e\\u0432\\u00bb.\"\n        ],\n        \"semantic_type\": \"\",\n        \"description\": \"\"\n      }\n    },\n    {\n      \"column\": \"embedding\",\n      \"properties\": {\n        \"dtype\": \"object\",\n        \"semantic_type\": \"\",\n        \"description\": \"\"\n      }\n    },\n    {\n      \"column\": \"cluster\",\n      \"properties\": {\n        \"dtype\": \"int32\",\n        \"num_unique_values\": 10,\n        \"samples\": [\n          9,\n          7,\n          1\n        ],\n        \"semantic_type\": \"\",\n        \"description\": \"\"\n      }\n    }\n  ]\n}",
       "type": "dataframe",
       "variable_name": "df"
      },
      "text/html": [
       "\n",
       "  <div id=\"df-6a9419aa-e77e-405b-afe4-4099eae95005\" class=\"colab-df-container\">\n",
       "    <div>\n",
       "<style scoped>\n",
       "    .dataframe tbody tr th:only-of-type {\n",
       "        vertical-align: middle;\n",
       "    }\n",
       "\n",
       "    .dataframe tbody tr th {\n",
       "        vertical-align: top;\n",
       "    }\n",
       "\n",
       "    .dataframe thead th {\n",
       "        text-align: right;\n",
       "    }\n",
       "</style>\n",
       "<table border=\"1\" class=\"dataframe\">\n",
       "  <thead>\n",
       "    <tr style=\"text-align: right;\">\n",
       "      <th></th>\n",
       "      <th>text</th>\n",
       "      <th>embedding</th>\n",
       "      <th>cluster</th>\n",
       "    </tr>\n",
       "  </thead>\n",
       "  <tbody>\n",
       "    <tr>\n",
       "      <th>0</th>\n",
       "      <td>Заместитель председателяnправительства РФnСерг...</td>\n",
       "      <td>[0.07518719, -0.0055617844, 0.014240301, -0.04...</td>\n",
       "      <td>8</td>\n",
       "    </tr>\n",
       "    <tr>\n",
       "      <th>1</th>\n",
       "      <td>Матч 1/16 финала Кубка России по футболу был п...</td>\n",
       "      <td>[0.00035189706, -0.04810312, -0.020328153, -0....</td>\n",
       "      <td>7</td>\n",
       "    </tr>\n",
       "    <tr>\n",
       "      <th>2</th>\n",
       "      <td>Форвард «Авангарда» Томаш Заборский прокоммент...</td>\n",
       "      <td>[0.04424202, 0.00478189, -0.02290487, -0.04921...</td>\n",
       "      <td>3</td>\n",
       "    </tr>\n",
       "    <tr>\n",
       "      <th>3</th>\n",
       "      <td>Главный тренер «Кубани» Юрий Красножан прокомм...</td>\n",
       "      <td>[0.047330584, 0.031060353, 0.0015447184, -0.03...</td>\n",
       "      <td>3</td>\n",
       "    </tr>\n",
       "    <tr>\n",
       "      <th>4</th>\n",
       "      <td>Решением попечительского совета владивостокско...</td>\n",
       "      <td>[0.07092083, -0.05181958, -0.01780495, -0.0265...</td>\n",
       "      <td>8</td>\n",
       "    </tr>\n",
       "  </tbody>\n",
       "</table>\n",
       "</div>\n",
       "    <div class=\"colab-df-buttons\">\n",
       "\n",
       "  <div class=\"colab-df-container\">\n",
       "    <button class=\"colab-df-convert\" onclick=\"convertToInteractive('df-6a9419aa-e77e-405b-afe4-4099eae95005')\"\n",
       "            title=\"Convert this dataframe to an interactive table.\"\n",
       "            style=\"display:none;\">\n",
       "\n",
       "  <svg xmlns=\"http://www.w3.org/2000/svg\" height=\"24px\" viewBox=\"0 -960 960 960\">\n",
       "    <path d=\"M120-120v-720h720v720H120Zm60-500h600v-160H180v160Zm220 220h160v-160H400v160Zm0 220h160v-160H400v160ZM180-400h160v-160H180v160Zm440 0h160v-160H620v160ZM180-180h160v-160H180v160Zm440 0h160v-160H620v160Z\"/>\n",
       "  </svg>\n",
       "    </button>\n",
       "\n",
       "  <style>\n",
       "    .colab-df-container {\n",
       "      display:flex;\n",
       "      gap: 12px;\n",
       "    }\n",
       "\n",
       "    .colab-df-convert {\n",
       "      background-color: #E8F0FE;\n",
       "      border: none;\n",
       "      border-radius: 50%;\n",
       "      cursor: pointer;\n",
       "      display: none;\n",
       "      fill: #1967D2;\n",
       "      height: 32px;\n",
       "      padding: 0 0 0 0;\n",
       "      width: 32px;\n",
       "    }\n",
       "\n",
       "    .colab-df-convert:hover {\n",
       "      background-color: #E2EBFA;\n",
       "      box-shadow: 0px 1px 2px rgba(60, 64, 67, 0.3), 0px 1px 3px 1px rgba(60, 64, 67, 0.15);\n",
       "      fill: #174EA6;\n",
       "    }\n",
       "\n",
       "    .colab-df-buttons div {\n",
       "      margin-bottom: 4px;\n",
       "    }\n",
       "\n",
       "    [theme=dark] .colab-df-convert {\n",
       "      background-color: #3B4455;\n",
       "      fill: #D2E3FC;\n",
       "    }\n",
       "\n",
       "    [theme=dark] .colab-df-convert:hover {\n",
       "      background-color: #434B5C;\n",
       "      box-shadow: 0px 1px 3px 1px rgba(0, 0, 0, 0.15);\n",
       "      filter: drop-shadow(0px 1px 2px rgba(0, 0, 0, 0.3));\n",
       "      fill: #FFFFFF;\n",
       "    }\n",
       "  </style>\n",
       "\n",
       "    <script>\n",
       "      const buttonEl =\n",
       "        document.querySelector('#df-6a9419aa-e77e-405b-afe4-4099eae95005 button.colab-df-convert');\n",
       "      buttonEl.style.display =\n",
       "        google.colab.kernel.accessAllowed ? 'block' : 'none';\n",
       "\n",
       "      async function convertToInteractive(key) {\n",
       "        const element = document.querySelector('#df-6a9419aa-e77e-405b-afe4-4099eae95005');\n",
       "        const dataTable =\n",
       "          await google.colab.kernel.invokeFunction('convertToInteractive',\n",
       "                                                    [key], {});\n",
       "        if (!dataTable) return;\n",
       "\n",
       "        const docLinkHtml = 'Like what you see? Visit the ' +\n",
       "          '<a target=\"_blank\" href=https://colab.research.google.com/notebooks/data_table.ipynb>data table notebook</a>'\n",
       "          + ' to learn more about interactive tables.';\n",
       "        element.innerHTML = '';\n",
       "        dataTable['output_type'] = 'display_data';\n",
       "        await google.colab.output.renderOutput(dataTable, element);\n",
       "        const docLink = document.createElement('div');\n",
       "        docLink.innerHTML = docLinkHtml;\n",
       "        element.appendChild(docLink);\n",
       "      }\n",
       "    </script>\n",
       "  </div>\n",
       "\n",
       "\n",
       "<div id=\"df-26eafd64-a194-4b57-93c8-0c254a11fa76\">\n",
       "  <button class=\"colab-df-quickchart\" onclick=\"quickchart('df-26eafd64-a194-4b57-93c8-0c254a11fa76')\"\n",
       "            title=\"Suggest charts\"\n",
       "            style=\"display:none;\">\n",
       "\n",
       "<svg xmlns=\"http://www.w3.org/2000/svg\" height=\"24px\"viewBox=\"0 0 24 24\"\n",
       "     width=\"24px\">\n",
       "    <g>\n",
       "        <path d=\"M19 3H5c-1.1 0-2 .9-2 2v14c0 1.1.9 2 2 2h14c1.1 0 2-.9 2-2V5c0-1.1-.9-2-2-2zM9 17H7v-7h2v7zm4 0h-2V7h2v10zm4 0h-2v-4h2v4z\"/>\n",
       "    </g>\n",
       "</svg>\n",
       "  </button>\n",
       "\n",
       "<style>\n",
       "  .colab-df-quickchart {\n",
       "      --bg-color: #E8F0FE;\n",
       "      --fill-color: #1967D2;\n",
       "      --hover-bg-color: #E2EBFA;\n",
       "      --hover-fill-color: #174EA6;\n",
       "      --disabled-fill-color: #AAA;\n",
       "      --disabled-bg-color: #DDD;\n",
       "  }\n",
       "\n",
       "  [theme=dark] .colab-df-quickchart {\n",
       "      --bg-color: #3B4455;\n",
       "      --fill-color: #D2E3FC;\n",
       "      --hover-bg-color: #434B5C;\n",
       "      --hover-fill-color: #FFFFFF;\n",
       "      --disabled-bg-color: #3B4455;\n",
       "      --disabled-fill-color: #666;\n",
       "  }\n",
       "\n",
       "  .colab-df-quickchart {\n",
       "    background-color: var(--bg-color);\n",
       "    border: none;\n",
       "    border-radius: 50%;\n",
       "    cursor: pointer;\n",
       "    display: none;\n",
       "    fill: var(--fill-color);\n",
       "    height: 32px;\n",
       "    padding: 0;\n",
       "    width: 32px;\n",
       "  }\n",
       "\n",
       "  .colab-df-quickchart:hover {\n",
       "    background-color: var(--hover-bg-color);\n",
       "    box-shadow: 0 1px 2px rgba(60, 64, 67, 0.3), 0 1px 3px 1px rgba(60, 64, 67, 0.15);\n",
       "    fill: var(--button-hover-fill-color);\n",
       "  }\n",
       "\n",
       "  .colab-df-quickchart-complete:disabled,\n",
       "  .colab-df-quickchart-complete:disabled:hover {\n",
       "    background-color: var(--disabled-bg-color);\n",
       "    fill: var(--disabled-fill-color);\n",
       "    box-shadow: none;\n",
       "  }\n",
       "\n",
       "  .colab-df-spinner {\n",
       "    border: 2px solid var(--fill-color);\n",
       "    border-color: transparent;\n",
       "    border-bottom-color: var(--fill-color);\n",
       "    animation:\n",
       "      spin 1s steps(1) infinite;\n",
       "  }\n",
       "\n",
       "  @keyframes spin {\n",
       "    0% {\n",
       "      border-color: transparent;\n",
       "      border-bottom-color: var(--fill-color);\n",
       "      border-left-color: var(--fill-color);\n",
       "    }\n",
       "    20% {\n",
       "      border-color: transparent;\n",
       "      border-left-color: var(--fill-color);\n",
       "      border-top-color: var(--fill-color);\n",
       "    }\n",
       "    30% {\n",
       "      border-color: transparent;\n",
       "      border-left-color: var(--fill-color);\n",
       "      border-top-color: var(--fill-color);\n",
       "      border-right-color: var(--fill-color);\n",
       "    }\n",
       "    40% {\n",
       "      border-color: transparent;\n",
       "      border-right-color: var(--fill-color);\n",
       "      border-top-color: var(--fill-color);\n",
       "    }\n",
       "    60% {\n",
       "      border-color: transparent;\n",
       "      border-right-color: var(--fill-color);\n",
       "    }\n",
       "    80% {\n",
       "      border-color: transparent;\n",
       "      border-right-color: var(--fill-color);\n",
       "      border-bottom-color: var(--fill-color);\n",
       "    }\n",
       "    90% {\n",
       "      border-color: transparent;\n",
       "      border-bottom-color: var(--fill-color);\n",
       "    }\n",
       "  }\n",
       "</style>\n",
       "\n",
       "  <script>\n",
       "    async function quickchart(key) {\n",
       "      const quickchartButtonEl =\n",
       "        document.querySelector('#' + key + ' button');\n",
       "      quickchartButtonEl.disabled = true;  // To prevent multiple clicks.\n",
       "      quickchartButtonEl.classList.add('colab-df-spinner');\n",
       "      try {\n",
       "        const charts = await google.colab.kernel.invokeFunction(\n",
       "            'suggestCharts', [key], {});\n",
       "      } catch (error) {\n",
       "        console.error('Error during call to suggestCharts:', error);\n",
       "      }\n",
       "      quickchartButtonEl.classList.remove('colab-df-spinner');\n",
       "      quickchartButtonEl.classList.add('colab-df-quickchart-complete');\n",
       "    }\n",
       "    (() => {\n",
       "      let quickchartButtonEl =\n",
       "        document.querySelector('#df-26eafd64-a194-4b57-93c8-0c254a11fa76 button');\n",
       "      quickchartButtonEl.style.display =\n",
       "        google.colab.kernel.accessAllowed ? 'block' : 'none';\n",
       "    })();\n",
       "  </script>\n",
       "</div>\n",
       "\n",
       "    </div>\n",
       "  </div>\n"
      ],
      "text/plain": [
       "                                                text  \\\n",
       "0  Заместитель председателяnправительства РФnСерг...   \n",
       "1  Матч 1/16 финала Кубка России по футболу был п...   \n",
       "2  Форвард «Авангарда» Томаш Заборский прокоммент...   \n",
       "3  Главный тренер «Кубани» Юрий Красножан прокомм...   \n",
       "4  Решением попечительского совета владивостокско...   \n",
       "\n",
       "                                           embedding  cluster  \n",
       "0  [0.07518719, -0.0055617844, 0.014240301, -0.04...        8  \n",
       "1  [0.00035189706, -0.04810312, -0.020328153, -0....        7  \n",
       "2  [0.04424202, 0.00478189, -0.02290487, -0.04921...        3  \n",
       "3  [0.047330584, 0.031060353, 0.0015447184, -0.03...        3  \n",
       "4  [0.07092083, -0.05181958, -0.01780495, -0.0265...        8  "
      ]
     },
     "execution_count": 10,
     "metadata": {},
     "output_type": "execute_result"
    }
   ],
   "source": [
    "# Формируем датафрейм их текстов, их эмбеддингов и меток\n",
    "df = pd.DataFrame({\"text\": all_texts, \"embedding\": list(embeddings), \"cluster\": list(clusters)})\n",
    "df.head()"
   ]
  },
  {
   "cell_type": "code",
   "execution_count": null,
   "metadata": {
    "colab": {
     "base_uri": "https://localhost:8080/"
    },
    "id": "HNYCD6RnMug8",
    "outputId": "892f83bf-3475-4a74-8a65-faa475721a0e"
   },
   "outputs": [
    {
     "name": "stdout",
     "output_type": "stream",
     "text": [
      "991     Трагически закончился матч любительских футбол...\n",
      "1132    Спортсмен одной из зарубежных сборных, прибывш...\n",
      "2803    Российско-израильский предприниматель Аркадий ...\n",
      "3004    Более 10 тысяч человек пришли проститься с одн...\n",
      "3007    Прошедшая среда стала рекордным по количеству ...\n",
      "3031    В США арестован предполагаемый создатель сканд...\n",
      "3038    В столице Крыма Симферополе представители крым...\n",
      "3053    Вооруженные силы Африканского союза штурмуют п...\n",
      "3059    Сирийские власти разослали абонентам мобильной...\n",
      "3063    Два сторонника оппозиции были убиты в субботу ...\n",
      "Name: text, dtype: object\n"
     ]
    }
   ],
   "source": [
    "# Просмотр релевантности текстов в кластерах определенным темам\n",
    "claster_number = 0 # Выбор номера кластера\n",
    "df_filtered =  df[df[\"cluster\"] == claster_number] # Фильтруем строки\n",
    "print(df_filtered['text'].head(10)) # Выводим первые 10 строк"
   ]
  },
  {
   "cell_type": "markdown",
   "metadata": {
    "id": "qi4_T3E_AWgr"
   },
   "source": [
    "### _сохранение (тексты, эмбеддинги, метки)_"
   ]
  },
  {
   "cell_type": "code",
   "execution_count": 11,
   "metadata": {
    "colab": {
     "base_uri": "https://localhost:8080/"
    },
    "executionInfo": {
     "elapsed": 9006,
     "status": "ok",
     "timestamp": 1745220312868,
     "user": {
      "displayName": "Yurkmez Shaikh",
      "userId": "13761243575530827465"
     },
     "user_tz": -180
    },
    "id": "D1T9SIfI8Rsk",
    "outputId": "f9b4f3ec-ee7c-45f6-a704-76e386bb4ab2"
   },
   "outputs": [
    {
     "name": "stdout",
     "output_type": "stream",
     "text": [
      "✅ Кластеры сохранены в /content/drive/My Drive/Example_ML/classification_text/Classifiers/Experiments/After_clastering/clusters_rubert-tiny2_KMeans_5000.csv.\n"
     ]
    }
   ],
   "source": [
    "# Google Colab\n",
    "output_file = f'/content/drive/My Drive/Example_ML/classification_text/Classifiers/Experiments/After_clastering/clusters_rubert-tiny2_KMeans_{max_text}.csv'\n",
    "# Локально\n",
    "# output_file = f\"./Data/clusters_rubert-tiny2_KMeans_{max_text}.csv\"\n",
    "\n",
    "df.to_csv(output_file, index=False, encoding=\"utf-8\")\n",
    "print(f\"✅ Кластеры сохранены в {output_file}.\")"
   ]
  }
 ],
 "metadata": {
  "accelerator": "GPU",
  "colab": {
   "collapsed_sections": [
    "uytvMI6eHdi_",
    "xJke7zmUJWh-",
    "hnljkm9PJdIQ",
    "-uMdgR-1pUtA",
    "Dc7R9TuHCJSH",
    "3urRE1a2CgNz",
    "uhCV9oPNgQQF",
    "nB9F4stUcPYL",
    "umkujoBTsRKX",
    "7wV9MMx1CIUb",
    "xgEMp3OcZpzI",
    "GF_S9mHYIjR5",
    "uWBpBlevar9o",
    "XshNTkKm56Ut",
    "ERxz5vcK6WIt",
    "06WTKYcT-3nd",
    "jl7dxSN8AsI0",
    "e5Rr-uS9wdN9",
    "1U4ys4Jkw3az",
    "HZrlcTfVxLz6",
    "wWIWIlii3GbB"
   ],
   "gpuType": "T4",
   "provenance": []
  },
  "kernelspec": {
   "display_name": "Python 3",
   "name": "python3"
  },
  "language_info": {
   "codemirror_mode": {
    "name": "ipython",
    "version": 3
   },
   "file_extension": ".py",
   "mimetype": "text/x-python",
   "name": "python",
   "nbconvert_exporter": "python",
   "pygments_lexer": "ipython3",
   "version": "3.12.7"
  },
  "widgets": {
   "application/vnd.jupyter.widget-state+json": {
    "231b1b1a246e403cb8c99ab07c41d530": {
     "model_module": "@jupyter-widgets/controls",
     "model_module_version": "1.5.0",
     "model_name": "DescriptionStyleModel",
     "state": {
      "_model_module": "@jupyter-widgets/controls",
      "_model_module_version": "1.5.0",
      "_model_name": "DescriptionStyleModel",
      "_view_count": null,
      "_view_module": "@jupyter-widgets/base",
      "_view_module_version": "1.2.0",
      "_view_name": "StyleView",
      "description_width": ""
     }
    },
    "35472e775c374f39a0fcd87069b49fe2": {
     "model_module": "@jupyter-widgets/controls",
     "model_module_version": "1.5.0",
     "model_name": "ButtonStyleModel",
     "state": {
      "_model_module": "@jupyter-widgets/controls",
      "_model_module_version": "1.5.0",
      "_model_name": "ButtonStyleModel",
      "_view_count": null,
      "_view_module": "@jupyter-widgets/base",
      "_view_module_version": "1.2.0",
      "_view_name": "StyleView",
      "button_color": null,
      "font_weight": ""
     }
    },
    "389ae2ce3e6248cc98347b9fef213adf": {
     "model_module": "@jupyter-widgets/controls",
     "model_module_version": "1.5.0",
     "model_name": "LabelModel",
     "state": {
      "_dom_classes": [],
      "_model_module": "@jupyter-widgets/controls",
      "_model_module_version": "1.5.0",
      "_model_name": "LabelModel",
      "_view_count": null,
      "_view_module": "@jupyter-widgets/controls",
      "_view_module_version": "1.5.0",
      "_view_name": "LabelView",
      "description": "",
      "description_tooltip": null,
      "layout": "IPY_MODEL_f36928649b9e4c308dc2635921c42e85",
      "placeholder": "​",
      "style": "IPY_MODEL_231b1b1a246e403cb8c99ab07c41d530",
      "value": "Connecting..."
     }
    },
    "3f6c31838926472cb5e6a2a55ffaf89f": {
     "model_module": "@jupyter-widgets/base",
     "model_module_version": "1.2.0",
     "model_name": "LayoutModel",
     "state": {
      "_model_module": "@jupyter-widgets/base",
      "_model_module_version": "1.2.0",
      "_model_name": "LayoutModel",
      "_view_count": null,
      "_view_module": "@jupyter-widgets/base",
      "_view_module_version": "1.2.0",
      "_view_name": "LayoutView",
      "align_content": null,
      "align_items": "center",
      "align_self": null,
      "border": null,
      "bottom": null,
      "display": "flex",
      "flex": null,
      "flex_flow": "column",
      "grid_area": null,
      "grid_auto_columns": null,
      "grid_auto_flow": null,
      "grid_auto_rows": null,
      "grid_column": null,
      "grid_gap": null,
      "grid_row": null,
      "grid_template_areas": null,
      "grid_template_columns": null,
      "grid_template_rows": null,
      "height": null,
      "justify_content": null,
      "justify_items": null,
      "left": null,
      "margin": null,
      "max_height": null,
      "max_width": null,
      "min_height": null,
      "min_width": null,
      "object_fit": null,
      "object_position": null,
      "order": null,
      "overflow": null,
      "overflow_x": null,
      "overflow_y": null,
      "padding": null,
      "right": null,
      "top": null,
      "visibility": null,
      "width": "50%"
     }
    },
    "44b4326bc55b4a91b60e2c12f5f65dff": {
     "model_module": "@jupyter-widgets/controls",
     "model_module_version": "1.5.0",
     "model_name": "DescriptionStyleModel",
     "state": {
      "_model_module": "@jupyter-widgets/controls",
      "_model_module_version": "1.5.0",
      "_model_name": "DescriptionStyleModel",
      "_view_count": null,
      "_view_module": "@jupyter-widgets/base",
      "_view_module_version": "1.2.0",
      "_view_name": "StyleView",
      "description_width": ""
     }
    },
    "5c368a1b8fbf40dbbdfcd78498d68803": {
     "model_module": "@jupyter-widgets/base",
     "model_module_version": "1.2.0",
     "model_name": "LayoutModel",
     "state": {
      "_model_module": "@jupyter-widgets/base",
      "_model_module_version": "1.2.0",
      "_model_name": "LayoutModel",
      "_view_count": null,
      "_view_module": "@jupyter-widgets/base",
      "_view_module_version": "1.2.0",
      "_view_name": "LayoutView",
      "align_content": null,
      "align_items": null,
      "align_self": null,
      "border": null,
      "bottom": null,
      "display": null,
      "flex": null,
      "flex_flow": null,
      "grid_area": null,
      "grid_auto_columns": null,
      "grid_auto_flow": null,
      "grid_auto_rows": null,
      "grid_column": null,
      "grid_gap": null,
      "grid_row": null,
      "grid_template_areas": null,
      "grid_template_columns": null,
      "grid_template_rows": null,
      "height": null,
      "justify_content": null,
      "justify_items": null,
      "left": null,
      "margin": null,
      "max_height": null,
      "max_width": null,
      "min_height": null,
      "min_width": null,
      "object_fit": null,
      "object_position": null,
      "order": null,
      "overflow": null,
      "overflow_x": null,
      "overflow_y": null,
      "padding": null,
      "right": null,
      "top": null,
      "visibility": null,
      "width": null
     }
    },
    "5f18a4e475aa4518a222d7afe7627a09": {
     "model_module": "@jupyter-widgets/controls",
     "model_module_version": "1.5.0",
     "model_name": "DescriptionStyleModel",
     "state": {
      "_model_module": "@jupyter-widgets/controls",
      "_model_module_version": "1.5.0",
      "_model_name": "DescriptionStyleModel",
      "_view_count": null,
      "_view_module": "@jupyter-widgets/base",
      "_view_module_version": "1.2.0",
      "_view_name": "StyleView",
      "description_width": ""
     }
    },
    "5fa162e07378439999a62cdb5b38bc1e": {
     "model_module": "@jupyter-widgets/base",
     "model_module_version": "1.2.0",
     "model_name": "LayoutModel",
     "state": {
      "_model_module": "@jupyter-widgets/base",
      "_model_module_version": "1.2.0",
      "_model_name": "LayoutModel",
      "_view_count": null,
      "_view_module": "@jupyter-widgets/base",
      "_view_module_version": "1.2.0",
      "_view_name": "LayoutView",
      "align_content": null,
      "align_items": null,
      "align_self": null,
      "border": null,
      "bottom": null,
      "display": null,
      "flex": null,
      "flex_flow": null,
      "grid_area": null,
      "grid_auto_columns": null,
      "grid_auto_flow": null,
      "grid_auto_rows": null,
      "grid_column": null,
      "grid_gap": null,
      "grid_row": null,
      "grid_template_areas": null,
      "grid_template_columns": null,
      "grid_template_rows": null,
      "height": null,
      "justify_content": null,
      "justify_items": null,
      "left": null,
      "margin": null,
      "max_height": null,
      "max_width": null,
      "min_height": null,
      "min_width": null,
      "object_fit": null,
      "object_position": null,
      "order": null,
      "overflow": null,
      "overflow_x": null,
      "overflow_y": null,
      "padding": null,
      "right": null,
      "top": null,
      "visibility": null,
      "width": null
     }
    },
    "861842f18e9b423da4d2bc23a0154f5d": {
     "model_module": "@jupyter-widgets/controls",
     "model_module_version": "1.5.0",
     "model_name": "CheckboxModel",
     "state": {
      "_dom_classes": [],
      "_model_module": "@jupyter-widgets/controls",
      "_model_module_version": "1.5.0",
      "_model_name": "CheckboxModel",
      "_view_count": null,
      "_view_module": "@jupyter-widgets/controls",
      "_view_module_version": "1.5.0",
      "_view_name": "CheckboxView",
      "description": "Add token as git credential?",
      "description_tooltip": null,
      "disabled": false,
      "indent": true,
      "layout": "IPY_MODEL_ee1f562a7e084060806dc79802049882",
      "style": "IPY_MODEL_94be50c9abeb44d4934e8948a23ed638",
      "value": true
     }
    },
    "8d84e1a895454bc2909743ca7ff05fd6": {
     "model_module": "@jupyter-widgets/controls",
     "model_module_version": "1.5.0",
     "model_name": "DescriptionStyleModel",
     "state": {
      "_model_module": "@jupyter-widgets/controls",
      "_model_module_version": "1.5.0",
      "_model_name": "DescriptionStyleModel",
      "_view_count": null,
      "_view_module": "@jupyter-widgets/base",
      "_view_module_version": "1.2.0",
      "_view_name": "StyleView",
      "description_width": ""
     }
    },
    "9138738915904f9d983dac1ba0a4c56b": {
     "model_module": "@jupyter-widgets/controls",
     "model_module_version": "1.5.0",
     "model_name": "VBoxModel",
     "state": {
      "_dom_classes": [],
      "_model_module": "@jupyter-widgets/controls",
      "_model_module_version": "1.5.0",
      "_model_name": "VBoxModel",
      "_view_count": null,
      "_view_module": "@jupyter-widgets/controls",
      "_view_module_version": "1.5.0",
      "_view_name": "VBoxView",
      "box_style": "",
      "children": [],
      "layout": "IPY_MODEL_3f6c31838926472cb5e6a2a55ffaf89f"
     }
    },
    "916d5a9e469f49f892ad2664a72ceea5": {
     "model_module": "@jupyter-widgets/controls",
     "model_module_version": "1.5.0",
     "model_name": "ButtonModel",
     "state": {
      "_dom_classes": [],
      "_model_module": "@jupyter-widgets/controls",
      "_model_module_version": "1.5.0",
      "_model_name": "ButtonModel",
      "_view_count": null,
      "_view_module": "@jupyter-widgets/controls",
      "_view_module_version": "1.5.0",
      "_view_name": "ButtonView",
      "button_style": "",
      "description": "Login",
      "disabled": false,
      "icon": "",
      "layout": "IPY_MODEL_5fa162e07378439999a62cdb5b38bc1e",
      "style": "IPY_MODEL_35472e775c374f39a0fcd87069b49fe2",
      "tooltip": ""
     }
    },
    "94be50c9abeb44d4934e8948a23ed638": {
     "model_module": "@jupyter-widgets/controls",
     "model_module_version": "1.5.0",
     "model_name": "DescriptionStyleModel",
     "state": {
      "_model_module": "@jupyter-widgets/controls",
      "_model_module_version": "1.5.0",
      "_model_name": "DescriptionStyleModel",
      "_view_count": null,
      "_view_module": "@jupyter-widgets/base",
      "_view_module_version": "1.2.0",
      "_view_name": "StyleView",
      "description_width": ""
     }
    },
    "a7af701dd61749eb8961f917720c1518": {
     "model_module": "@jupyter-widgets/controls",
     "model_module_version": "1.5.0",
     "model_name": "PasswordModel",
     "state": {
      "_dom_classes": [],
      "_model_module": "@jupyter-widgets/controls",
      "_model_module_version": "1.5.0",
      "_model_name": "PasswordModel",
      "_view_count": null,
      "_view_module": "@jupyter-widgets/controls",
      "_view_module_version": "1.5.0",
      "_view_name": "PasswordView",
      "continuous_update": true,
      "description": "Token:",
      "description_tooltip": null,
      "disabled": false,
      "layout": "IPY_MODEL_aec2ab941a14411aafb4dbdda2165f92",
      "placeholder": "​",
      "style": "IPY_MODEL_44b4326bc55b4a91b60e2c12f5f65dff",
      "value": ""
     }
    },
    "a7b285481475420d8bad343736a1ea74": {
     "model_module": "@jupyter-widgets/base",
     "model_module_version": "1.2.0",
     "model_name": "LayoutModel",
     "state": {
      "_model_module": "@jupyter-widgets/base",
      "_model_module_version": "1.2.0",
      "_model_name": "LayoutModel",
      "_view_count": null,
      "_view_module": "@jupyter-widgets/base",
      "_view_module_version": "1.2.0",
      "_view_name": "LayoutView",
      "align_content": null,
      "align_items": null,
      "align_self": null,
      "border": null,
      "bottom": null,
      "display": null,
      "flex": null,
      "flex_flow": null,
      "grid_area": null,
      "grid_auto_columns": null,
      "grid_auto_flow": null,
      "grid_auto_rows": null,
      "grid_column": null,
      "grid_gap": null,
      "grid_row": null,
      "grid_template_areas": null,
      "grid_template_columns": null,
      "grid_template_rows": null,
      "height": null,
      "justify_content": null,
      "justify_items": null,
      "left": null,
      "margin": null,
      "max_height": null,
      "max_width": null,
      "min_height": null,
      "min_width": null,
      "object_fit": null,
      "object_position": null,
      "order": null,
      "overflow": null,
      "overflow_x": null,
      "overflow_y": null,
      "padding": null,
      "right": null,
      "top": null,
      "visibility": null,
      "width": null
     }
    },
    "aec2ab941a14411aafb4dbdda2165f92": {
     "model_module": "@jupyter-widgets/base",
     "model_module_version": "1.2.0",
     "model_name": "LayoutModel",
     "state": {
      "_model_module": "@jupyter-widgets/base",
      "_model_module_version": "1.2.0",
      "_model_name": "LayoutModel",
      "_view_count": null,
      "_view_module": "@jupyter-widgets/base",
      "_view_module_version": "1.2.0",
      "_view_name": "LayoutView",
      "align_content": null,
      "align_items": null,
      "align_self": null,
      "border": null,
      "bottom": null,
      "display": null,
      "flex": null,
      "flex_flow": null,
      "grid_area": null,
      "grid_auto_columns": null,
      "grid_auto_flow": null,
      "grid_auto_rows": null,
      "grid_column": null,
      "grid_gap": null,
      "grid_row": null,
      "grid_template_areas": null,
      "grid_template_columns": null,
      "grid_template_rows": null,
      "height": null,
      "justify_content": null,
      "justify_items": null,
      "left": null,
      "margin": null,
      "max_height": null,
      "max_width": null,
      "min_height": null,
      "min_width": null,
      "object_fit": null,
      "object_position": null,
      "order": null,
      "overflow": null,
      "overflow_x": null,
      "overflow_y": null,
      "padding": null,
      "right": null,
      "top": null,
      "visibility": null,
      "width": null
     }
    },
    "cc56f5d2aeed4646b1b831b9847f05e3": {
     "model_module": "@jupyter-widgets/controls",
     "model_module_version": "1.5.0",
     "model_name": "HTMLModel",
     "state": {
      "_dom_classes": [],
      "_model_module": "@jupyter-widgets/controls",
      "_model_module_version": "1.5.0",
      "_model_name": "HTMLModel",
      "_view_count": null,
      "_view_module": "@jupyter-widgets/controls",
      "_view_module_version": "1.5.0",
      "_view_name": "HTMLView",
      "description": "",
      "description_tooltip": null,
      "layout": "IPY_MODEL_5c368a1b8fbf40dbbdfcd78498d68803",
      "placeholder": "​",
      "style": "IPY_MODEL_8d84e1a895454bc2909743ca7ff05fd6",
      "value": "\n<b>Pro Tip:</b> If you don't already have one, you can create a dedicated\n'notebooks' token with 'write' access, that you can then easily reuse for all\nnotebooks. </center>"
     }
    },
    "d8275553003442a8a2b53002d23b3900": {
     "model_module": "@jupyter-widgets/controls",
     "model_module_version": "1.5.0",
     "model_name": "HTMLModel",
     "state": {
      "_dom_classes": [],
      "_model_module": "@jupyter-widgets/controls",
      "_model_module_version": "1.5.0",
      "_model_name": "HTMLModel",
      "_view_count": null,
      "_view_module": "@jupyter-widgets/controls",
      "_view_module_version": "1.5.0",
      "_view_name": "HTMLView",
      "description": "",
      "description_tooltip": null,
      "layout": "IPY_MODEL_a7b285481475420d8bad343736a1ea74",
      "placeholder": "​",
      "style": "IPY_MODEL_5f18a4e475aa4518a222d7afe7627a09",
      "value": "<center> <img\nsrc=https://huggingface.co/front/assets/huggingface_logo-noborder.svg\nalt='Hugging Face'> <br> Copy a token from <a\nhref=\"https://huggingface.co/settings/tokens\" target=\"_blank\">your Hugging Face\ntokens page</a> and paste it below. <br> Immediately click login after copying\nyour token or it might be stored in plain text in this notebook file. </center>"
     }
    },
    "ee1f562a7e084060806dc79802049882": {
     "model_module": "@jupyter-widgets/base",
     "model_module_version": "1.2.0",
     "model_name": "LayoutModel",
     "state": {
      "_model_module": "@jupyter-widgets/base",
      "_model_module_version": "1.2.0",
      "_model_name": "LayoutModel",
      "_view_count": null,
      "_view_module": "@jupyter-widgets/base",
      "_view_module_version": "1.2.0",
      "_view_name": "LayoutView",
      "align_content": null,
      "align_items": null,
      "align_self": null,
      "border": null,
      "bottom": null,
      "display": null,
      "flex": null,
      "flex_flow": null,
      "grid_area": null,
      "grid_auto_columns": null,
      "grid_auto_flow": null,
      "grid_auto_rows": null,
      "grid_column": null,
      "grid_gap": null,
      "grid_row": null,
      "grid_template_areas": null,
      "grid_template_columns": null,
      "grid_template_rows": null,
      "height": null,
      "justify_content": null,
      "justify_items": null,
      "left": null,
      "margin": null,
      "max_height": null,
      "max_width": null,
      "min_height": null,
      "min_width": null,
      "object_fit": null,
      "object_position": null,
      "order": null,
      "overflow": null,
      "overflow_x": null,
      "overflow_y": null,
      "padding": null,
      "right": null,
      "top": null,
      "visibility": null,
      "width": null
     }
    },
    "f36928649b9e4c308dc2635921c42e85": {
     "model_module": "@jupyter-widgets/base",
     "model_module_version": "1.2.0",
     "model_name": "LayoutModel",
     "state": {
      "_model_module": "@jupyter-widgets/base",
      "_model_module_version": "1.2.0",
      "_model_name": "LayoutModel",
      "_view_count": null,
      "_view_module": "@jupyter-widgets/base",
      "_view_module_version": "1.2.0",
      "_view_name": "LayoutView",
      "align_content": null,
      "align_items": null,
      "align_self": null,
      "border": null,
      "bottom": null,
      "display": null,
      "flex": null,
      "flex_flow": null,
      "grid_area": null,
      "grid_auto_columns": null,
      "grid_auto_flow": null,
      "grid_auto_rows": null,
      "grid_column": null,
      "grid_gap": null,
      "grid_row": null,
      "grid_template_areas": null,
      "grid_template_columns": null,
      "grid_template_rows": null,
      "height": null,
      "justify_content": null,
      "justify_items": null,
      "left": null,
      "margin": null,
      "max_height": null,
      "max_width": null,
      "min_height": null,
      "min_width": null,
      "object_fit": null,
      "object_position": null,
      "order": null,
      "overflow": null,
      "overflow_x": null,
      "overflow_y": null,
      "padding": null,
      "right": null,
      "top": null,
      "visibility": null,
      "width": null
     }
    }
   }
  }
 },
 "nbformat": 4,
 "nbformat_minor": 0
}
