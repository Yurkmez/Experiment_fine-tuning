{
  "cells": [
    {
      "cell_type": "markdown",
      "metadata": {
        "id": "9b6b7Jm_L1YJ"
      },
      "source": [
        "# __Свяжем предобученную BERT с графовой кластеризацией (через igraph)__"
      ]
    },
    {
      "cell_type": "markdown",
      "metadata": {
        "id": "pIaPMFaVOspn"
      },
      "source": [
        "# _pip, import_"
      ]
    },
    {
      "cell_type": "code",
      "execution_count": 2,
      "metadata": {
        "colab": {
          "base_uri": "https://localhost:8080/"
        },
        "id": "8q6xeJ8INYko",
        "outputId": "35d0fb1b-68b4-49ef-df86-36da8db19996"
      },
      "outputs": [
        {
          "name": "stdout",
          "output_type": "stream",
          "text": [
            "Collecting igraph\n",
            "  Downloading igraph-0.11.8-cp39-abi3-manylinux_2_17_x86_64.manylinux2014_x86_64.whl.metadata (3.8 kB)\n",
            "Collecting texttable>=1.6.2 (from igraph)\n",
            "  Downloading texttable-1.7.0-py2.py3-none-any.whl.metadata (9.8 kB)\n",
            "Downloading igraph-0.11.8-cp39-abi3-manylinux_2_17_x86_64.manylinux2014_x86_64.whl (3.1 MB)\n",
            "\u001b[2K   \u001b[90m━━━━━━━━━━━━━━━━━━━━━━━━━━━━━━━━━━━━━━━━\u001b[0m \u001b[32m3.1/3.1 MB\u001b[0m \u001b[31m34.3 MB/s\u001b[0m eta \u001b[36m0:00:00\u001b[0m\n",
            "\u001b[?25hDownloading texttable-1.7.0-py2.py3-none-any.whl (10 kB)\n",
            "Installing collected packages: texttable, igraph\n",
            "Successfully installed igraph-0.11.8 texttable-1.7.0\n"
          ]
        }
      ],
      "source": [
        "!pip install igraph"
      ]
    },
    {
      "cell_type": "code",
      "execution_count": 3,
      "metadata": {
        "id": "6W6jbcVaLXNe"
      },
      "outputs": [],
      "source": [
        "import igraph as ig\n",
        "import numpy as np\n",
        "import pandas as pd\n",
        "from tqdm import tqdm\n",
        "from sklearn.metrics.pairwise import cosine_similarity"
      ]
    },
    {
      "cell_type": "code",
      "execution_count": null,
      "metadata": {
        "colab": {
          "base_uri": "https://localhost:8080/",
          "height": 17,
          "referenced_widgets": [
            "e08ca003447b4a158c2a9b16b009b0ec",
            "12938ca9e6e64624920aa55837234131",
            "4e46b2386ac74ff2a797a146a127ddf3",
            "0aace6ce885e46c6952204be6a030b2a",
            "240d5604bcb04a73a0cc8d730f209a15",
            "c6c9b8a50105456481611114a49b9ee7",
            "d5a9033f83334f75917b70b259daad47",
            "97b1270e0bf64cb5b2ddc0b675969375",
            "4703013c4601486b93ea9eb7b472d9a8",
            "8b68de6eda92482a8a4082bb69fba242",
            "8f80115360c445c59729d237b1102701",
            "7680396867254c1dbac5ad568160246f",
            "5698214198fa47bc80753b31240aad99",
            "4a314116bca84df29d9121fb01c1f442",
            "d9ff0337a5434c2891d3272ddde319a2",
            "21f59c79626840d189e2d34dacec1338",
            "0b78b0d6ba994cda991042fa7e0673be",
            "54401ebae0054810a0901e17fc1ce2be",
            "9962ab1b0c9c4bf79cfbb7d969ad0fbf",
            "2ff7bc6555e2482eb5c8c6ce8a61e04e"
          ]
        },
        "id": "MbX9Fz9zMfRD",
        "outputId": "f04cbcf5-fadf-4f24-a14e-efc01e288cdc"
      },
      "outputs": [],
      "source": [
        "from huggingface_hub import notebook_login\n",
        "notebook_login()"
      ]
    },
    {
      "cell_type": "code",
      "execution_count": 5,
      "metadata": {
        "colab": {
          "base_uri": "https://localhost:8080/"
        },
        "id": "oMkq4AD7MgrE",
        "outputId": "c0c5cd03-a39c-4011-9127-a0690bf98208"
      },
      "outputs": [
        {
          "name": "stdout",
          "output_type": "stream",
          "text": [
            "Mounted at /content/drive\n"
          ]
        }
      ],
      "source": [
        "# Связь с файлами на Google drıve\n",
        "from google.colab import drive\n",
        "drive.mount('/content/drive')"
      ]
    },
    {
      "cell_type": "markdown",
      "metadata": {
        "id": "59wNgGucMmg-"
      },
      "source": [
        "# _загрузка текстов и их эмбеддингов <font color='orange'><small>(all_texts, ebeddings)_  "
      ]
    },
    {
      "cell_type": "code",
      "execution_count": 6,
      "metadata": {
        "colab": {
          "base_uri": "https://localhost:8080/"
        },
        "id": "s10pGtg5Mrav",
        "outputId": "7594817a-271a-4a94-8141-4c72b2735829"
      },
      "outputs": [
        {
          "name": "stderr",
          "output_type": "stream",
          "text": [
            "Обработка данных: 4it [00:00, 10.42it/s]\n"
          ]
        },
        {
          "data": {
            "text/plain": [
              "5000"
            ]
          },
          "execution_count": 6,
          "metadata": {},
          "output_type": "execute_result"
        }
      ],
      "source": [
        "# Загрузка текстов\n",
        "\n",
        "# _______ Параметры ______________\n",
        "chunk_size = 1000 # # Размер чанка при загрузке текстов\n",
        "# Google Colab\n",
        "file_path_data = '/content/drive/My Drive/Example_ML/classification_text/Classifiers/articles.csv'\n",
        "# Локально\n",
        "# file_path_data = 'articles.csv'\n",
        "text_column = \"title\"  # Название колонки с текстами\n",
        "\n",
        "# _________ Загрузка _______________________\n",
        "\n",
        "all_texts = []\n",
        "max_text = 5000 # maximum number of texts !!! Используется в названии файла !!!\n",
        "current_count = 0\n",
        "\n",
        "for chunk in tqdm(pd.read_csv(file_path_data, chunksize=chunk_size), desc=\"Обработка данных\"):\n",
        "    if text_column not in chunk.columns:\n",
        "        print(f\"Ошибка: в CSV нет колонки '{text_column}'. Доступные: {chunk.columns}\")\n",
        "        break\n",
        "\n",
        "    texts = chunk[text_column].dropna().tolist()  # Убираем пустые значения\n",
        "\n",
        "    remaining = max_text - current_count\n",
        "    if remaining <= 0:\n",
        "        break\n",
        "    # Обрезаем чанк, если он превышает лимит\n",
        "    if len(texts) > remaining:\n",
        "        texts = texts[:remaining]\n",
        "    all_texts.extend(texts)  # Объединяем части текста вместе\n",
        "\n",
        "    current_count += len(texts)\n",
        "    if current_count >= max_text:\n",
        "        break\n",
        "\n",
        "len(all_texts) # list"
      ]
    },
    {
      "cell_type": "code",
      "execution_count": 7,
      "metadata": {
        "colab": {
          "base_uri": "https://localhost:8080/"
        },
        "id": "cMM8YJ0BMw37",
        "outputId": "f8ba184b-6634-4a68-8567-2f4dfd77687e"
      },
      "outputs": [
        {
          "name": "stdout",
          "output_type": "stream",
          "text": [
            "Форма объединённого массива: (5000, 312)\n"
          ]
        }
      ],
      "source": [
        "# Загрузка эмбеддингов\n",
        "\n",
        "# _________ Параметры ____________\n",
        "batch_size = 1000  # Размер батча\n",
        "\n",
        "# Google Colab\n",
        "file_path_embeddings = f'/content/drive/My Drive/Example_ML/classification_text/Classifiers/Data/embeddings_rubert-tiny2_text_{max_text}.npy'  # Путь к файлу эмбеддингов\n",
        "# Локально\n",
        "# file_path_embeddings = './Data/embeddings_rubert-tiny2.npy'  # Файл с эмбеддингами\n",
        "\n",
        "# _________ Загрузка _______________________\n",
        "# Загружаем файл в режиме \"чтение без загрузки в память\"\n",
        "embeddings_mmap = np.load(file_path_embeddings, mmap_mode=\"r\")\n",
        "\n",
        "num_samples = embeddings_mmap.shape[0] # Определяем количество примеров (должно быть = max_text)\n",
        "all_embeddings = [] # Пустой список для хранения частей эмбеддингов\n",
        "\n",
        "# Читаем файл частями\n",
        "for i in range(0, num_samples, batch_size):\n",
        "    batch = embeddings_mmap[i : i + batch_size]  # Загружаем батч\n",
        "    all_embeddings.append(batch)  # Добавляем в список\n",
        "\n",
        "embeddings = np.vstack(all_embeddings) # Объединяем все части в один массив NumPy\n",
        "\n",
        "print(f\"Форма объединённого массива: {embeddings.shape}\") # Проверяем размер итогового массива"
      ]
    },
    {
      "cell_type": "code",
      "execution_count": null,
      "metadata": {
        "colab": {
          "base_uri": "https://localhost:8080/"
        },
        "id": "RWnYWSWuN5J3",
        "outputId": "dfc591ba-d955-41ab-b06a-fd1c60a934bb"
      },
      "outputs": [
        {
          "data": {
            "text/plain": [
              "(5000, 312)"
            ]
          },
          "execution_count": 11,
          "metadata": {},
          "output_type": "execute_result"
        }
      ],
      "source": [
        "embeddings.shape"
      ]
    },
    {
      "cell_type": "markdown",
      "metadata": {
        "id": "BSTbAO1LgIsZ"
      },
      "source": [
        "# 1. Кластеризуем с __Leiden__"
      ]
    },
    {
      "cell_type": "markdown",
      "metadata": {
        "id": "jf2jhrKwOOQH"
      },
      "source": [
        "## _строим граф схожести между текстами (используя __cosine similarity__ между эмбеддингами, преобразуем её в граф)_"
      ]
    },
    {
      "cell_type": "code",
      "execution_count": 8,
      "metadata": {
        "id": "QCVYuOWbO9_5"
      },
      "outputs": [],
      "source": [
        "# Вычислим попарное косинусное сходство\n",
        "similarity_matrix = cosine_similarity(embeddings)\n",
        "# similarity_matrix"
      ]
    },
    {
      "cell_type": "markdown",
      "metadata": {
        "id": "uU33O8bMpiDZ"
      },
      "source": [
        "Что здесь: `similarity_matrix = cosine_similarity(X)`  \n",
        "Строится полная матрица N x N попарных косинусных сходств между всеми векторами.  \n",
        "Это симметричная матрица: similarity_matrix[i, j] = similarity_matrix[j, i].  \n",
        "Используется для построения полносвязного графа, где потом ты отсекаешь по threshold.  \n",
        "⚠️ Недостатки: Память: при N = 50 000 матрица = ~19 ГБ в float64!  \n",
        "Много шумных или слабых связей, даже если между двумя текстами почти нет сходства — у них будет какое-то значение."
      ]
    },
    {
      "cell_type": "code",
      "execution_count": 9,
      "metadata": {
        "colab": {
          "base_uri": "https://localhost:8080/"
        },
        "id": "FkRhvIxCPSs7",
        "outputId": "d1e75446-f0c8-4b3d-f1e5-6877008cf851"
      },
      "outputs": [
        {
          "name": "stdout",
          "output_type": "stream",
          "text": [
            "[(0, 18)]\n",
            "[np.float32(0.76878875)]\n"
          ]
        }
      ],
      "source": [
        "threshold = 0.7 # Порог - степень похожести (подбираемый, см. ниже)\n",
        "\n",
        "# Список рёбер (i, j) со сходством > threshold\n",
        "edges = [] # массив ребер\n",
        "weights = [] # массив весов ребер\n",
        "N = similarity_matrix.shape[0] # у нас 5000\n",
        "\n",
        "\n",
        "#  Строим список рёбер графа на основе косинусного сходства между эмбеддингами,\n",
        "# где каждый текст — это узел графа,\n",
        "# а ребро между двумя узлами появляется, если их сходство выше заданного порога.\n",
        "\n",
        "for i in range(N):                        # Проходим по всем парам эмбеддингов\n",
        "    for j in range(i + 1, N):             # Только уникальные пары (i < j), без повторений и самих себя\n",
        "        sim = similarity_matrix[i, j]     # Достаём косинусное сходство между текстом i и j\n",
        "        if sim > threshold:               # Если сходство выше порога (например, 0.7)\n",
        "            edges.append((i, j))          # Добавляем ребро в список: i связано с j\n",
        "            weights.append(sim)           # Сохраняем вес ребра (сходство)\n",
        "\n",
        "\n",
        "# edges: список кортежей (i, j) — индексы текстов, между которыми есть \"похожесть\".\n",
        "# weights: веса этих рёбер — значения сходства.\n",
        "# Эти данные идут в igraph\n",
        "print(edges[9:10])\n",
        "print(weights[9:10])"
      ]
    },
    {
      "cell_type": "markdown",
      "metadata": {
        "id": "tA9iaq06fOKI"
      },
      "source": [
        "### насколько корректно выбран порог"
      ]
    },
    {
      "cell_type": "code",
      "execution_count": null,
      "metadata": {
        "colab": {
          "base_uri": "https://localhost:8080/"
        },
        "id": "GVp4dPE8dFxp",
        "outputId": "74f36198-3c22-48e5-e25f-0aa77c27b4e0"
      },
      "outputs": [
        {
          "name": "stdout",
          "output_type": "stream",
          "text": [
            "min: 0.30122253\n",
            "max: 0.99202895\n",
            "mean: 0.6699383\n",
            "median: 0.66737926\n"
          ]
        }
      ],
      "source": [
        "# Оценим \"разумность\" выбора величины threshold, исходя из распределения весов (сходств). Лучше, чем угадывать ее \"на глаз\".\n",
        "\n",
        "weights_array = np.array(weights)\n",
        "print(\"min:\", weights_array.min())\n",
        "print(\"max:\", weights_array.max())\n",
        "print(\"mean:\", weights_array.mean())\n",
        "print(\"median:\", np.median(weights_array))"
      ]
    },
    {
      "cell_type": "code",
      "execution_count": null,
      "metadata": {
        "colab": {
          "base_uri": "https://localhost:8080/",
          "height": 472
        },
        "id": "Qwlb1iF4dsjI",
        "outputId": "a6cf80fb-967d-403f-999f-b971efe76139"
      },
      "outputs": [
        {
          "data": {
            "image/png": "[encoded data removed]",
            "text/plain": [
              "<Figure size 640x480 with 1 Axes>"
            ]
          },
          "metadata": {},
          "output_type": "display_data"
        }
      ],
      "source": [
        "import matplotlib.pyplot as plt\n",
        "\n",
        "plt.hist(weights_array, bins=100)\n",
        "plt.title(\"Распределение косинусных сходств (весов)\")\n",
        "plt.xlabel(\"Сходство\")\n",
        "plt.ylabel(\"Частота\")\n",
        "plt.grid(True)\n",
        "plt.show()"
      ]
    },
    {
      "cell_type": "code",
      "execution_count": null,
      "metadata": {
        "colab": {
          "base_uri": "https://localhost:8080/"
        },
        "id": "NVyDiydfekmI",
        "outputId": "cb4287b3-b276-4e76-e985-b24342a32735"
      },
      "outputs": [
        {
          "data": {
            "text/plain": [
              "np.float32(0.73182523)"
            ]
          },
          "execution_count": 102,
          "metadata": {},
          "output_type": "execute_result"
        }
      ],
      "source": [
        "threshold_exaple = np.percentile(weights_array, 80)\n",
        "threshold_exaple\n",
        "# Усли взять threshold = np.percentile(weights_array, 90),\n",
        "# то оставим только 10% самых сильных связей, игнорируя слабые."
      ]
    },
    {
      "cell_type": "markdown",
      "metadata": {
        "id": "CucyzBrYfVHh"
      },
      "source": [
        "### далее"
      ]
    },
    {
      "cell_type": "code",
      "execution_count": 10,
      "metadata": {
        "id": "vFQzHILtRS-g"
      },
      "outputs": [],
      "source": [
        "# Создаём граф\n",
        "g = ig.Graph(edges=edges, directed=False)\n",
        "g.es['weight'] = weights"
      ]
    },
    {
      "cell_type": "markdown",
      "metadata": {
        "id": "C6iN96xjUoZ4"
      },
      "source": [
        "## _кластеризуем_"
      ]
    },
    {
      "cell_type": "code",
      "execution_count": null,
      "metadata": {
        "colab": {
          "base_uri": "https://localhost:8080/"
        },
        "id": "lTeqXW4iRVq1",
        "outputId": "0ef4f682-53b3-4f32-cbfb-1e6add24f9e4"
      },
      "outputs": [
        {
          "name": "stdout",
          "output_type": "stream",
          "text": [
            "Resolution 0.7: 194 кластеров\n",
            "Resolution 0.6: 158 кластеров\n",
            "Resolution 0.5: 126 кластеров\n",
            "Resolution 0.4: 99 кластеров\n",
            "Resolution 0.3: 76 кластеров\n",
            "Resolution 0.1: 35 кластеров\n"
          ]
        }
      ],
      "source": [
        "# Оценка к-ва получаемых кластеров по параметру \"resolution\"\n",
        "for res in [0.7, 0.6, 0.5, 0.4, 0.3, 0.1]:\n",
        "    clusters = g.community_leiden(weights=g.es['weight'], resolution=res)\n",
        "    print(f\"Resolution {res}: {len(clusters)} кластеров\")"
      ]
    },
    {
      "cell_type": "code",
      "execution_count": 11,
      "metadata": {
        "colab": {
          "base_uri": "https://localhost:8080/"
        },
        "id": "rnWmrPiNgw4e",
        "outputId": "2811fb73-04f3-4923-ad24-91ffb037c99d"
      },
      "outputs": [
        {
          "name": "stdout",
          "output_type": "stream",
          "text": [
            "Количество кластеров: 12\n",
            "Counter({0: 4986, 4: 3, 9: 2, 1: 1, 2: 1, 3: 1, 5: 1, 6: 1, 7: 1, 8: 1, 10: 1, 11: 1})\n"
          ]
        }
      ],
      "source": [
        "# Кластеризуем:\n",
        "\n",
        "clusters = g.community_leiden(weights=g.es['weight'], resolution=0.01) # Leiden\n",
        "# Или: clusters = g.community_multilevel(weights=g.es['weight'])  # Louvain\n",
        "\n",
        "# Создаем датафрейм\n",
        "\n",
        "# type(clusters) # type -> igraph.clustering.VertexClustering, не годится для сохранения в df\n",
        "graph_labels = clusters.membership  # Преобразовываем в список меток для каждого узла\n",
        "type(graph_labels)\n",
        "\n",
        "df = pd.DataFrame({\n",
        "    'text': all_texts,\n",
        "    'embeddings': list(embeddings),  # Важно: список из массивов\n",
        "    'cluster': graph_labels\n",
        "})\n",
        "# df[7:10]\n",
        "\n",
        "# Подсчет к-ва классов\n",
        "num_clusters = len(set(graph_labels))\n",
        "print(f\"Количество кластеров: {num_clusters}\")\n",
        "\n",
        "# Количественное распределение текстов по кластерам:\n",
        "from collections import Counter\n",
        "counts_cluster = Counter(graph_labels)\n",
        "print(counts_cluster)"
      ]
    },
    {
      "cell_type": "markdown",
      "metadata": {
        "id": "UDm0-D5AgkPo"
      },
      "source": [
        "# 2. Кластеризуем с __FAISS для kNN-графа__"
      ]
    },
    {
      "cell_type": "markdown",
      "metadata": {
        "id": "zIjowj6bkeGl"
      },
      "source": [
        "## Импорты и подготовка данных (нормализация эмбеддингов)"
      ]
    },
    {
      "cell_type": "code",
      "execution_count": null,
      "metadata": {
        "id": "B7kQOS6ngy1u"
      },
      "outputs": [],
      "source": [
        "!pip install faiss-cpu"
      ]
    },
    {
      "cell_type": "code",
      "execution_count": 14,
      "metadata": {
        "id": "IwZo1BcchU8b"
      },
      "outputs": [],
      "source": [
        "import faiss\n",
        "import numpy as np\n",
        "import igraph as ig"
      ]
    },
    {
      "cell_type": "code",
      "execution_count": null,
      "metadata": {
        "id": "6QIQtWcAhbYK"
      },
      "outputs": [],
      "source": [
        "X_normalized = embeddings / np.linalg.norm(embeddings, axis=1, keepdims=True)\n",
        "X_normalized"
      ]
    },
    {
      "cell_type": "code",
      "execution_count": null,
      "metadata": {
        "colab": {
          "base_uri": "https://localhost:8080/"
        },
        "id": "LQVupJbAhwWQ",
        "outputId": "49631e1d-b2f9-4e9c-f6a0-9a1610c94f37"
      },
      "outputs": [
        {
          "name": "stdout",
          "output_type": "stream",
          "text": [
            "[[ 0.07518719 -0.00556178  0.0142403  -0.04957588 -0.01678801  0.0150027\n",
            "   0.06352423 -0.07921577 -0.01654473  0.08945166]]\n",
            "[[ 0.07518719 -0.00556178  0.0142403  -0.04957588 -0.01678801  0.0150027\n",
            "   0.06352423 -0.07921577 -0.01654473  0.08945166]]\n"
          ]
        }
      ],
      "source": [
        "print(embeddings[:1, :10])\n",
        "print(X_normalized[:1, :10])\n",
        "# Как видим, они и так были нормализованы"
      ]
    },
    {
      "cell_type": "code",
      "execution_count": null,
      "metadata": {
        "colab": {
          "base_uri": "https://localhost:8080/"
        },
        "id": "0m0xgbKiiwnu",
        "outputId": "62651276-e809-4c37-8a99-07a3496ad498"
      },
      "outputs": [
        {
          "name": "stdout",
          "output_type": "stream",
          "text": [
            "min: -0.5314207077026367, max: 0.295122891664505\n"
          ]
        }
      ],
      "source": [
        "vec = X_normalized  # берем первый вектор (X_normalized[0] или любой по индексу)\n",
        "min_val = vec.min()\n",
        "max_val = vec.max()\n",
        "\n",
        "print(f\"min: {min_val}, max: {max_val}\")"
      ]
    },
    {
      "cell_type": "markdown",
      "metadata": {
        "id": "JvPrYJR4kKcu"
      },
      "source": [
        "## Построение индекса и поиск kNN"
      ]
    },
    {
      "cell_type": "code",
      "execution_count": 15,
      "metadata": {
        "id": "jDJOFb8tjuam"
      },
      "outputs": [],
      "source": [
        "k = 60  # число ближайших соседей\n",
        "\n",
        "# ========= Примечание - у нас X_normalized = embeddings, т. е. embeddings уже\n",
        "# нормализован, т.е. имеет те-же нормализованные значения, поэтому ниже используем\n",
        "# везде embeddings.\n",
        "\n",
        "# FAISS индекс для поиска по косинусной близости (внутри он использует скалярное произведение)\n",
        "d = embeddings.shape[1]  # размерность эмбеддинга\n",
        "index = faiss.IndexFlatIP(d)  # IP = Inner Product → для cosine similarity\n",
        "index.add(embeddings.astype('float32'))  # FAISS работает только с float32\n",
        "\n",
        "# Поиск ближайших k+1 соседей (включая себя)\n",
        "similarities, indices = index.search(embeddings.astype('float32'), k + 1)\n"
      ]
    },
    {
      "cell_type": "markdown",
      "metadata": {
        "id": "419BLqMty4lT"
      },
      "source": [
        "### Пояснения по коду и сравнение с построением графа вручную (с порогом)"
      ]
    },
    {
      "cell_type": "markdown",
      "metadata": {
        "id": "4J-fsQHBqW6p"
      },
      "source": [
        "- indices[i] — это список индексов k+1 ближайших соседей к точке i (включая саму точку)  \n",
        "- similarities[i] — это список соответствующих косинусных сходств (т.к. мы нормализовали эмбеддинги, FAISS возвращает скалярное произведение ≈ cosine similarity)  \n",
        "\n",
        "Что происходит здесь (в сравнении с простой процедурой similarity_matrix = cosine_similarity(X))  \n",
        "```\n",
        "index = faiss.IndexFlatIP(d)\n",
        "index.add(X_normalized.astype('float32'))\n",
        "similarities, indices = index.search(X_normalized.astype('float32'), k + 1)\n",
        "```  \n",
        "FAISS не строит полную матрицу — вместо этого находит k самых похожих векторов для каждого.  \n",
        "Работает по внутреннему произведению (inner product), но ты нормализуешь вектора, чтобы превратить это в cosine similarity.  \n",
        "Строится kNN-граф: у каждого узла ровно k связей (с его ближайшими соседями).  "
      ]
    },
    {
      "cell_type": "markdown",
      "metadata": {
        "id": "qItj6LBJqy6F"
      },
      "source": [
        "✅ Преимущества:\n",
        "```\n",
        "Аспект\t          cosine_similarity\t      FAISS + kNN\n",
        "Память\t          Очень большая (N x N)\t  Гораздо меньше (только N x k)\n",
        "Связи\t            Все со всеми\t          Только k ближайших\n",
        "Скорость\t        Медленно при больших N\tОчень быстро даже при 100k+\n",
        "Тип графа\t        Глобальный, плотный\t    Локальный, разреженный\n",
        "Контроль\t        Через threshold\t        Через k ближайших\n",
        "```"
      ]
    },
    {
      "cell_type": "markdown",
      "metadata": {
        "id": "5pTkQgrVkW9s"
      },
      "source": [
        "## Построение графа на основе kNN"
      ]
    },
    {
      "cell_type": "code",
      "execution_count": 16,
      "metadata": {
        "id": "xjJ2G9M1ktzk"
      },
      "outputs": [],
      "source": [
        "edges = []\n",
        "weights = []\n",
        "\n",
        "N = embeddings.shape[0]\n",
        "for i in range(N):\n",
        "    for j, sim in zip(indices[i][1:], similarities[i][1:]):  # Пропускаем себя\n",
        "        edges.append((i, j))\n",
        "        weights.append(sim)  # Уже косинусная похожесть"
      ]
    },
    {
      "cell_type": "markdown",
      "metadata": {
        "id": "RaxTzfjdykGM"
      },
      "source": [
        "### Пояснения по принципу работы и сравнение с построением графа вручную (с порогом)"
      ]
    },
    {
      "cell_type": "markdown",
      "metadata": {
        "id": "-dAtqrU_stX0"
      },
      "source": [
        "Что здесь происходит.  \n",
        "Функция zip(a, b) объединяет два списка a и b в пары, или  \n",
        "Объединяет каждый индекс соседа j и его сходство sim в пару (j, sim)  \n",
        "- indices[i]       → список индексов ближайших соседей для точки i  \n",
        "- similarities[i]  → список косинусных сходств для этих соседей  \n",
        "\n",
        "⚠️ Но:  \n",
        "Первый элемент в обоих списках — это сама точка i (сходство с собой = 1.0)  \n",
        "Поэтому используем [1:] чтобы пропустить саму точку и взять только соседей:  \n",
        "- indices[i][1:]       → индексы k ближайших соседей (без i)  \n",
        "- similarities[i][1:]  → значения сходства с этими соседями  "
      ]
    },
    {
      "cell_type": "markdown",
      "metadata": {
        "id": "-lxlVS2CwjRa"
      },
      "source": [
        "Некоторые сравнения   \n",
        "📦 Как это выглядит в памяти  \n",
        "\n",
        "❌ __Полная матрица (cosine_similarity):__  \n",
        "Размер: N x N Тип данных: float32 → 4 байта на число Для N=5000:\n",
        "5000 x 5000 x 4 байта = 100 МБ Но если N=50,000 — это уже ~9.3 ГБ!\n",
        "\n",
        "✅ __kNN-граф (через FAISS):__  \n",
        "Хранишь только k соседей на каждую точку Размер: N x k (для indices) и N x k (для similarities) Пример: N=5000, k=10: 5000 x 10 x 4 байта x 2 = 0.4 МБ"
      ]
    },
    {
      "cell_type": "markdown",
      "metadata": {
        "id": "U0PpUoR3xU8e"
      },
      "source": [
        "🧠 Вариант 1 - строим граф вручную с порогом  \n",
        "```\n",
        "if similarity_matrix[i, j] > threshold:\n",
        "    edges.append((i, j))\n",
        "    weights.append(similarity_matrix[i, j])\n",
        "```\n",
        "- edges, weights → только где сходство > threshold, может быть меньше чем N × N, но максимально N × (N–1)/2 (для неориентированного графа)\n",
        "\n",
        "📦 Память:  \n",
        "- similarity_matrix: N × N  \n",
        "- edges, weights: ≤ N × (N–1)/2 (если граф плотный — много связей)  \n"
      ]
    },
    {
      "cell_type": "markdown",
      "metadata": {
        "id": "O8puj0OgxsCh"
      },
      "source": [
        "📊 Вариант 2: kNN-граф через FAISS\n",
        "```\n",
        "index = faiss.IndexFlatIP(d)\n",
        "index.add(X_normalized.astype('float32'))\n",
        "similarities, indices = index.search(X_normalized, k + 1)\n",
        "```\n",
        "- indices → форма (N, k + 1) (k ближайших соседей + сама точка)  \n",
        "- similarities → форма (N, k + 1)  \n",
        "```\n",
        "edges = []\n",
        "weights = []\n",
        "for i in range(N):\n",
        "    for j, sim in zip(indices[i][1:], similarities[i][1:]):\n",
        "        edges.append((i, j))\n",
        "        weights.append(sim)\n",
        "```  \n",
        "- edges, weights → точная длина = N × k"
      ]
    },
    {
      "cell_type": "markdown",
      "metadata": {
        "id": "LYwtTd7yyQZd"
      },
      "source": [
        "🧠 Вывод — в сравнении:\n",
        "```\n",
        "Характеристика\t            Полная cosine_similarity\t        FAISS kNN-граф\n",
        "similarity_matrix\t          N × N (большая)\t                  Нет полной матрицы\n",
        "edges, weights\t            До N × (N-1)/2\t                  Ровно N × k\n",
        "Память\t                    Большая\t                          Очень компактно\n",
        "Связи\t                      Глобальные, все-все\t              Только локальные соседи\n",
        "```"
      ]
    },
    {
      "cell_type": "markdown",
      "metadata": {
        "id": "gXfs4i5xlcTj"
      },
      "source": [
        "## Кластеризация через igraph"
      ]
    },
    {
      "cell_type": "code",
      "execution_count": 17,
      "metadata": {
        "id": "4r5lDTmMlixk"
      },
      "outputs": [],
      "source": [
        "# Создаём граф\n",
        "g = ig.Graph(edges=edges, directed=False)\n",
        "g.es['weight'] = weights"
      ]
    },
    {
      "cell_type": "code",
      "execution_count": 18,
      "metadata": {
        "colab": {
          "base_uri": "https://localhost:8080/"
        },
        "id": "rtSWNlDgmhP5",
        "outputId": "5f9bf0c7-ae30-406d-a6c9-0708455cd1db"
      },
      "outputs": [
        {
          "name": "stdout",
          "output_type": "stream",
          "text": [
            "Resolution 0.03: 17 кластеров\n",
            "Resolution 0.02: 12 кластеров\n",
            "Resolution 0.015: 6 кластеров\n"
          ]
        }
      ],
      "source": [
        "# Оценка к-ва получаемых кластеров по параметру \"resolution\"\n",
        "for res in [0.03, 0.02, 0.015]:\n",
        "    clusters = g.community_leiden(weights=g.es['weight'], resolution=res)\n",
        "    print(f\"Resolution {res}: {len(clusters)} кластеров\")"
      ]
    },
    {
      "cell_type": "code",
      "execution_count": 19,
      "metadata": {
        "id": "YEmi0GwHmYbG"
      },
      "outputs": [],
      "source": [
        "# Подставляем подходящее значение resolution\n",
        "clusters = g.community_leiden(weights=g.es['weight'], resolution=0.015)\n",
        "graph_labels = clusters.membership"
      ]
    },
    {
      "cell_type": "code",
      "execution_count": 20,
      "metadata": {
        "colab": {
          "base_uri": "https://localhost:8080/"
        },
        "id": "a1tLSicnlxhR",
        "outputId": "7ab0e297-91fe-47d6-a166-84727b2f29cf"
      },
      "outputs": [
        {
          "name": "stdout",
          "output_type": "stream",
          "text": [
            "Количество кластеров: 6\n",
            "Counter({2: 1544, 0: 1364, 1: 828, 4: 664, 3: 599, 5: 1})\n"
          ]
        }
      ],
      "source": [
        "# Создаем датафрейм\n",
        "\n",
        "# type(clusters) # type -> igraph.clustering.VertexClustering, не годится для сохранения в df\n",
        "graph_labels = clusters.membership  # Преобразовываем в список меток для каждого узла\n",
        "type(graph_labels)\n",
        "\n",
        "df = pd.DataFrame({\n",
        "    'text': all_texts,\n",
        "    'embeddings': list(embeddings),  # Важно: список из массивов\n",
        "    'cluster': graph_labels\n",
        "})\n",
        "# df[7:10]\n",
        "\n",
        "# Подсчет к-ва классов\n",
        "num_clusters = len(set(graph_labels))\n",
        "print(f\"Количество кластеров: {num_clusters}\")\n",
        "\n",
        "# Количественное распределение текстов по кластерам:\n",
        "from collections import Counter\n",
        "counts_cluster = Counter(graph_labels)\n",
        "print(counts_cluster)"
      ]
    },
    {
      "cell_type": "markdown",
      "metadata": {
        "id": "MFQxqDBJ5EAi"
      },
      "source": [
        "## Подсчет количества слов, наиболее часто встречающихся в текстах определенного класса"
      ]
    },
    {
      "cell_type": "markdown",
      "metadata": {
        "id": "GRIVNV_G9u9_"
      },
      "source": [
        "Для начала, уберем \"шум\", т. е. часто встречающиеся, но бесполезные для нашей задачи слова вида \"в\", \"на\", \"но\", \"что\" и т.п."
      ]
    },
    {
      "cell_type": "code",
      "execution_count": null,
      "metadata": {
        "id": "6HbMdaTj-EJI"
      },
      "outputs": [],
      "source": [
        "!pip install nltk"
      ]
    },
    {
      "cell_type": "code",
      "execution_count": null,
      "metadata": {
        "id": "qTYLrVD5-PLA"
      },
      "outputs": [],
      "source": [
        "import nltk\n",
        "from nltk.corpus import stopwords\n",
        "import re\n",
        "from collections import Counter"
      ]
    },
    {
      "cell_type": "code",
      "execution_count": null,
      "metadata": {
        "colab": {
          "base_uri": "https://localhost:8080/"
        },
        "id": "Pw5kEg03-LNw",
        "outputId": "24356766-ee83-493d-be48-5a442fb61dbd"
      },
      "outputs": [
        {
          "name": "stderr",
          "output_type": "stream",
          "text": [
            "[nltk_data] Downloading package stopwords to /root/nltk_data...\n",
            "[nltk_data]   Unzipping corpora/stopwords.zip.\n"
          ]
        }
      ],
      "source": [
        "# Загрузка русских стоп-слов:\n",
        "nltk.download('stopwords')\n",
        "russian_stopwords = set(stopwords.words(\"russian\"))"
      ]
    },
    {
      "cell_type": "code",
      "execution_count": null,
      "metadata": {
        "id": "h7R0Hwf06DEM"
      },
      "outputs": [],
      "source": [
        "# Количество кластеров: 6\n",
        "# Counter({2: 1540, 0: 1364, 1: 828, 4: 664, 3: 603, 5: 1})\n",
        "\n",
        "# По всем текстам\n",
        "joined_text = ' '.join(df['text']).lower()\n",
        "\n",
        "# По целевым кластерам\n",
        "# target_cluster = 5\n",
        "# texts = df[df['cluster'] == target_cluster]['text']\n",
        "# joined_text = ' '.join(texts).lower()\n",
        "\n",
        "# Токенизация (только слова, \\w — буквы и цифры)\n",
        "words = re.findall(r'\\b\\w+\\b', joined_text)\n",
        "\n",
        "# Фильтрация:\n",
        "filtered_words = [\n",
        "    w for w in words\n",
        "    if w not in russian_stopwords         # не стоп-слово - убираем \"в\", \"и\", \"что\", и т.д.\n",
        "    and not w.isdigit()                   # не число\n",
        "    and len(w) >= 4                       # длина ≥ 4\n",
        "]\n",
        "\n",
        "# Подсчёт\n",
        "word_freq = Counter(filtered_words)\n",
        "top_words = word_freq.most_common(20)\n",
        "\n",
        "# Вывод\n",
        "for word, freq in top_words:\n",
        "    print(f\"{word}: {freq}\")"
      ]
    },
    {
      "cell_type": "markdown",
      "metadata": {
        "id": "qlWoveZ8BAPX"
      },
      "source": [
        "### Что делает __words = re.findall(r'\\b\\w+\\b', joined_text)__  "
      ]
    },
    {
      "cell_type": "markdown",
      "metadata": {
        "id": "_jOtLS3oAXJh"
      },
      "source": [
        "Это выражение использует регулярное выражение (regex) и библиотеку re для извлечения слов из строки.   \n",
        "🔍 Компоненты  \n",
        "✅ re.findall(...) - Ищет все совпадения шаблона в строке.\n",
        "Возвращает список найденных совпадений.\n",
        "\n",
        "✅ r'\\b\\w+\\b' — регулярное выражение  \n",
        "Элемент\tЗначение\n",
        "- __r''__\t- \"сырой\" строковый литерал: \\ не экранируется\n",
        "- __\\b__ - \tграница слова (например, пробел, пунктуация, начало или конец строки)\n",
        "- __\\w+__ - \tодна или более \"буквенно-цифровых\" символов (буквы + цифры + _)\n",
        "- __\\b__ -\tграница слова в конце  \n"
      ]
    },
    {
      "cell_type": "markdown",
      "metadata": {
        "id": "aiuUUmdfJF8j"
      },
      "source": [
        "## TF-IDF.  \n",
        "Смотрим, насколько слово часто встречается в конкретном классе по отношению к частоте его встречаемости во всем документе, т.е.  какие слова характерны для конкретного документа или группы."
      ]
    },
    {
      "cell_type": "markdown",
      "metadata": {
        "id": "L9lpyYvzJaDS"
      },
      "source": [
        "🔹 TF: Term Frequency (частота термина) — насколько часто слово встречается внутри одного кластера (все тексты объединяются в строку).  \n",
        "- TF(term, doc) = количество вхождений term в doc / общее число слов в doc  \n",
        "\n",
        "🔹 IDF: Inverse Document Frequency (обратная частота документа) — насколько редко слово встречается среди всех кластеров. Просто: сколько раз слово встречается в документе.  \n",
        "- IDF(term) = log( общее количество документов / количество документов, где встречается term )\n",
        "\n",
        "👉 Таким образом, слово с высоким TF-IDF:  \n",
        "Часто встречается внутри одного кластера  \n",
        "И редко встречается в других кластерах  "
      ]
    },
    {
      "cell_type": "code",
      "execution_count": null,
      "metadata": {
        "id": "jsP019yYNzEu"
      },
      "outputs": [],
      "source": [
        "!pip install nltk"
      ]
    },
    {
      "cell_type": "code",
      "execution_count": 23,
      "metadata": {
        "id": "inzel6IkNzEv"
      },
      "outputs": [],
      "source": [
        "import nltk\n",
        "from nltk.corpus import stopwords\n",
        "import re\n",
        "from collections import Counter"
      ]
    },
    {
      "cell_type": "code",
      "execution_count": 24,
      "metadata": {
        "colab": {
          "base_uri": "https://localhost:8080/"
        },
        "id": "YCQaJxkJNzEv",
        "outputId": "0b1c920b-efa6-4501-da76-ee635cebd786"
      },
      "outputs": [
        {
          "name": "stderr",
          "output_type": "stream",
          "text": [
            "[nltk_data] Downloading package stopwords to /root/nltk_data...\n",
            "[nltk_data]   Unzipping corpora/stopwords.zip.\n"
          ]
        }
      ],
      "source": [
        "# Загрузка русских стоп-слов:\n",
        "nltk.download('stopwords')\n",
        "russian_stopwords = set(stopwords.words(\"russian\"))"
      ]
    },
    {
      "cell_type": "code",
      "execution_count": 25,
      "metadata": {
        "colab": {
          "base_uri": "https://localhost:8080/"
        },
        "id": "iv9Mo3Q5LQ-H",
        "outputId": "dcc3f08f-7cdc-42a7-c348-db87009a36e0"
      },
      "outputs": [
        {
          "name": "stdout",
          "output_type": "stream",
          "text": [
            "\n",
            "🧩 Кластер 0:\n",
            "россии: 0.298\n",
            "года: 0.191\n",
            "также: 0.168\n",
            "заявил: 0.156\n",
            "партии: 0.156\n",
            "президента: 0.151\n",
            "который: 0.134\n",
            "сказал: 0.129\n",
            "госдумы: 0.125\n",
            "власти: 0.113\n",
            "\n",
            "🧩 Кластер 1:\n",
            "счетом: 0.314\n",
            "2013: 0.286\n",
            "статистикой: 0.285\n",
            "новостями: 0.285\n",
            "материалами: 0.244\n",
            "другими: 0.211\n",
            "матче: 0.204\n",
            "наnстраницеnуниверсиады: 0.204\n",
            "встреча: 0.175\n",
            "сборная: 0.169\n",
            "\n",
            "🧩 Кластер 2:\n",
            "очень: 0.312\n",
            "слова: 0.304\n",
            "приводит: 0.277\n",
            "поделился: 0.226\n",
            "россии: 0.194\n",
            "тренер: 0.189\n",
            "команды: 0.159\n",
            "мнением: 0.143\n",
            "матче: 0.139\n",
            "цска: 0.138\n",
            "\n",
            "🧩 Кластер 3:\n",
            "сезоне: 0.317\n",
            "провел: 0.293\n",
            "контракт: 0.252\n",
            "сообщаетnофициальный: 0.244\n",
            "матчей: 0.221\n",
            "года: 0.192\n",
            "летний: 0.182\n",
            "забил: 0.178\n",
            "минувшем: 0.177\n",
            "рассчитано: 0.158\n",
            "\n",
            "🧩 Кластер 4:\n",
            "россии: 0.238\n",
            "страны: 0.208\n",
            "года: 0.203\n",
            "заявил: 0.189\n",
            "сирии: 0.184\n",
            "также: 0.177\n",
            "мали: 0.173\n",
            "ссылкой: 0.152\n",
            "время: 0.147\n",
            "министр: 0.142\n",
            "\n",
            "🧩 Кластер 5:\n",
            "сочи: 0.449\n",
            "2014: 0.389\n",
            "будут: 0.389\n",
            "полиции: 0.303\n",
            "глава: 0.225\n",
            "посту: 0.225\n",
            "городе: 0.195\n",
            "слова: 0.195\n",
            "приводит: 0.195\n",
            "андрей: 0.195\n"
          ]
        }
      ],
      "source": [
        "# Уточним, у нас количество кластеров: 6\n",
        "# Counter({2: 1540, 0: 1364, 1: 828, 4: 664, 3: 603, 5: 1})\n",
        "\n",
        "from sklearn.feature_extraction.text import TfidfVectorizer\n",
        "# import pandas as pd\n",
        "\n",
        "# Убедимся, что тексты и метки есть\n",
        "assert 'text' in df.columns and 'cluster' in df.columns\n",
        "\n",
        "# Объединяем тексты по кластерам\n",
        "cluster_texts = df.groupby('cluster')['text'].apply(lambda texts: ' '.join(texts)).reset_index()\n",
        "\n",
        "# Настройка TF-IDF\n",
        "vectorizer = TfidfVectorizer(\n",
        "    stop_words=stopwords.words('russian'),\n",
        "    token_pattern=r'\\b\\w{4,}\\b',  # только слова длиной ≥ 4\n",
        "    max_features=1000             # ограничение топ-слов\n",
        ")\n",
        "\n",
        "# Строим матрицу (n_clusters x n_words)\n",
        "tfidf_matrix = vectorizer.fit_transform(cluster_texts['text'])\n",
        "feature_names = vectorizer.get_feature_names_out()\n",
        "\n",
        "# Для каждого кластера — выводим топ-слов с наибольшим tf-idf\n",
        "top_n = 10\n",
        "for i, row in enumerate(tfidf_matrix.toarray()):\n",
        "    print(f\"\\n🧩 Кластер {cluster_texts['cluster'][i]}:\")\n",
        "    top_indices = row.argsort()[::-1][:top_n]\n",
        "    for idx in top_indices:\n",
        "        print(f\"{feature_names[idx]}: {row[idx]:.3f}\")\n"
      ]
    }
  ],
  "metadata": {
    "colab": {
      "collapsed_sections": [
        "tA9iaq06fOKI",
        "419BLqMty4lT",
        "RaxTzfjdykGM"
      ],
      "provenance": []
    },
    "kernelspec": {
      "display_name": "Python 3",
      "name": "python3"
    },
    "language_info": {
      "name": "python"
    },
    "widgets": {
      "application/vnd.jupyter.widget-state+json": {
        "0aace6ce885e46c6952204be6a030b2a": {
          "model_module": "@jupyter-widgets/controls",
          "model_module_version": "1.5.0",
          "model_name": "CheckboxModel",
          "state": {
            "_dom_classes": [],
            "_model_module": "@jupyter-widgets/controls",
            "_model_module_version": "1.5.0",
            "_model_name": "CheckboxModel",
            "_view_count": null,
            "_view_module": "@jupyter-widgets/controls",
            "_view_module_version": "1.5.0",
            "_view_name": "CheckboxView",
            "description": "Add token as git credential?",
            "description_tooltip": null,
            "disabled": false,
            "indent": true,
            "layout": "IPY_MODEL_7680396867254c1dbac5ad568160246f",
            "style": "IPY_MODEL_5698214198fa47bc80753b31240aad99",
            "value": true
          }
        },
        "0b78b0d6ba994cda991042fa7e0673be": {
          "model_module": "@jupyter-widgets/controls",
          "model_module_version": "1.5.0",
          "model_name": "DescriptionStyleModel",
          "state": {
            "_model_module": "@jupyter-widgets/controls",
            "_model_module_version": "1.5.0",
            "_model_name": "DescriptionStyleModel",
            "_view_count": null,
            "_view_module": "@jupyter-widgets/base",
            "_view_module_version": "1.2.0",
            "_view_name": "StyleView",
            "description_width": ""
          }
        },
        "12938ca9e6e64624920aa55837234131": {
          "model_module": "@jupyter-widgets/controls",
          "model_module_version": "1.5.0",
          "model_name": "HTMLModel",
          "state": {
            "_dom_classes": [],
            "_model_module": "@jupyter-widgets/controls",
            "_model_module_version": "1.5.0",
            "_model_name": "HTMLModel",
            "_view_count": null,
            "_view_module": "@jupyter-widgets/controls",
            "_view_module_version": "1.5.0",
            "_view_name": "HTMLView",
            "description": "",
            "description_tooltip": null,
            "layout": "IPY_MODEL_97b1270e0bf64cb5b2ddc0b675969375",
            "placeholder": "​",
            "style": "IPY_MODEL_4703013c4601486b93ea9eb7b472d9a8",
            "value": "<center> <img\nsrc=https://huggingface.co/front/assets/huggingface_logo-noborder.svg\nalt='Hugging Face'> <br> Copy a token from <a\nhref=\"https://huggingface.co/settings/tokens\" target=\"_blank\">your Hugging Face\ntokens page</a> and paste it below. <br> Immediately click login after copying\nyour token or it might be stored in plain text in this notebook file. </center>"
          }
        },
        "21f59c79626840d189e2d34dacec1338": {
          "model_module": "@jupyter-widgets/base",
          "model_module_version": "1.2.0",
          "model_name": "LayoutModel",
          "state": {
            "_model_module": "@jupyter-widgets/base",
            "_model_module_version": "1.2.0",
            "_model_name": "LayoutModel",
            "_view_count": null,
            "_view_module": "@jupyter-widgets/base",
            "_view_module_version": "1.2.0",
            "_view_name": "LayoutView",
            "align_content": null,
            "align_items": null,
            "align_self": null,
            "border": null,
            "bottom": null,
            "display": null,
            "flex": null,
            "flex_flow": null,
            "grid_area": null,
            "grid_auto_columns": null,
            "grid_auto_flow": null,
            "grid_auto_rows": null,
            "grid_column": null,
            "grid_gap": null,
            "grid_row": null,
            "grid_template_areas": null,
            "grid_template_columns": null,
            "grid_template_rows": null,
            "height": null,
            "justify_content": null,
            "justify_items": null,
            "left": null,
            "margin": null,
            "max_height": null,
            "max_width": null,
            "min_height": null,
            "min_width": null,
            "object_fit": null,
            "object_position": null,
            "order": null,
            "overflow": null,
            "overflow_x": null,
            "overflow_y": null,
            "padding": null,
            "right": null,
            "top": null,
            "visibility": null,
            "width": null
          }
        },
        "240d5604bcb04a73a0cc8d730f209a15": {
          "model_module": "@jupyter-widgets/controls",
          "model_module_version": "1.5.0",
          "model_name": "ButtonModel",
          "state": {
            "_dom_classes": [],
            "_model_module": "@jupyter-widgets/controls",
            "_model_module_version": "1.5.0",
            "_model_name": "ButtonModel",
            "_view_count": null,
            "_view_module": "@jupyter-widgets/controls",
            "_view_module_version": "1.5.0",
            "_view_name": "ButtonView",
            "button_style": "",
            "description": "Login",
            "disabled": false,
            "icon": "",
            "layout": "IPY_MODEL_4a314116bca84df29d9121fb01c1f442",
            "style": "IPY_MODEL_d9ff0337a5434c2891d3272ddde319a2",
            "tooltip": ""
          }
        },
        "2ff7bc6555e2482eb5c8c6ce8a61e04e": {
          "model_module": "@jupyter-widgets/controls",
          "model_module_version": "1.5.0",
          "model_name": "DescriptionStyleModel",
          "state": {
            "_model_module": "@jupyter-widgets/controls",
            "_model_module_version": "1.5.0",
            "_model_name": "DescriptionStyleModel",
            "_view_count": null,
            "_view_module": "@jupyter-widgets/base",
            "_view_module_version": "1.2.0",
            "_view_name": "StyleView",
            "description_width": ""
          }
        },
        "4703013c4601486b93ea9eb7b472d9a8": {
          "model_module": "@jupyter-widgets/controls",
          "model_module_version": "1.5.0",
          "model_name": "DescriptionStyleModel",
          "state": {
            "_model_module": "@jupyter-widgets/controls",
            "_model_module_version": "1.5.0",
            "_model_name": "DescriptionStyleModel",
            "_view_count": null,
            "_view_module": "@jupyter-widgets/base",
            "_view_module_version": "1.2.0",
            "_view_name": "StyleView",
            "description_width": ""
          }
        },
        "4a314116bca84df29d9121fb01c1f442": {
          "model_module": "@jupyter-widgets/base",
          "model_module_version": "1.2.0",
          "model_name": "LayoutModel",
          "state": {
            "_model_module": "@jupyter-widgets/base",
            "_model_module_version": "1.2.0",
            "_model_name": "LayoutModel",
            "_view_count": null,
            "_view_module": "@jupyter-widgets/base",
            "_view_module_version": "1.2.0",
            "_view_name": "LayoutView",
            "align_content": null,
            "align_items": null,
            "align_self": null,
            "border": null,
            "bottom": null,
            "display": null,
            "flex": null,
            "flex_flow": null,
            "grid_area": null,
            "grid_auto_columns": null,
            "grid_auto_flow": null,
            "grid_auto_rows": null,
            "grid_column": null,
            "grid_gap": null,
            "grid_row": null,
            "grid_template_areas": null,
            "grid_template_columns": null,
            "grid_template_rows": null,
            "height": null,
            "justify_content": null,
            "justify_items": null,
            "left": null,
            "margin": null,
            "max_height": null,
            "max_width": null,
            "min_height": null,
            "min_width": null,
            "object_fit": null,
            "object_position": null,
            "order": null,
            "overflow": null,
            "overflow_x": null,
            "overflow_y": null,
            "padding": null,
            "right": null,
            "top": null,
            "visibility": null,
            "width": null
          }
        },
        "4e46b2386ac74ff2a797a146a127ddf3": {
          "model_module": "@jupyter-widgets/controls",
          "model_module_version": "1.5.0",
          "model_name": "PasswordModel",
          "state": {
            "_dom_classes": [],
            "_model_module": "@jupyter-widgets/controls",
            "_model_module_version": "1.5.0",
            "_model_name": "PasswordModel",
            "_view_count": null,
            "_view_module": "@jupyter-widgets/controls",
            "_view_module_version": "1.5.0",
            "_view_name": "PasswordView",
            "continuous_update": true,
            "description": "Token:",
            "description_tooltip": null,
            "disabled": false,
            "layout": "IPY_MODEL_8b68de6eda92482a8a4082bb69fba242",
            "placeholder": "​",
            "style": "IPY_MODEL_8f80115360c445c59729d237b1102701",
            "value": ""
          }
        },
        "54401ebae0054810a0901e17fc1ce2be": {
          "model_module": "@jupyter-widgets/controls",
          "model_module_version": "1.5.0",
          "model_name": "LabelModel",
          "state": {
            "_dom_classes": [],
            "_model_module": "@jupyter-widgets/controls",
            "_model_module_version": "1.5.0",
            "_model_name": "LabelModel",
            "_view_count": null,
            "_view_module": "@jupyter-widgets/controls",
            "_view_module_version": "1.5.0",
            "_view_name": "LabelView",
            "description": "",
            "description_tooltip": null,
            "layout": "IPY_MODEL_9962ab1b0c9c4bf79cfbb7d969ad0fbf",
            "placeholder": "​",
            "style": "IPY_MODEL_2ff7bc6555e2482eb5c8c6ce8a61e04e",
            "value": "Connecting..."
          }
        },
        "5698214198fa47bc80753b31240aad99": {
          "model_module": "@jupyter-widgets/controls",
          "model_module_version": "1.5.0",
          "model_name": "DescriptionStyleModel",
          "state": {
            "_model_module": "@jupyter-widgets/controls",
            "_model_module_version": "1.5.0",
            "_model_name": "DescriptionStyleModel",
            "_view_count": null,
            "_view_module": "@jupyter-widgets/base",
            "_view_module_version": "1.2.0",
            "_view_name": "StyleView",
            "description_width": ""
          }
        },
        "7680396867254c1dbac5ad568160246f": {
          "model_module": "@jupyter-widgets/base",
          "model_module_version": "1.2.0",
          "model_name": "LayoutModel",
          "state": {
            "_model_module": "@jupyter-widgets/base",
            "_model_module_version": "1.2.0",
            "_model_name": "LayoutModel",
            "_view_count": null,
            "_view_module": "@jupyter-widgets/base",
            "_view_module_version": "1.2.0",
            "_view_name": "LayoutView",
            "align_content": null,
            "align_items": null,
            "align_self": null,
            "border": null,
            "bottom": null,
            "display": null,
            "flex": null,
            "flex_flow": null,
            "grid_area": null,
            "grid_auto_columns": null,
            "grid_auto_flow": null,
            "grid_auto_rows": null,
            "grid_column": null,
            "grid_gap": null,
            "grid_row": null,
            "grid_template_areas": null,
            "grid_template_columns": null,
            "grid_template_rows": null,
            "height": null,
            "justify_content": null,
            "justify_items": null,
            "left": null,
            "margin": null,
            "max_height": null,
            "max_width": null,
            "min_height": null,
            "min_width": null,
            "object_fit": null,
            "object_position": null,
            "order": null,
            "overflow": null,
            "overflow_x": null,
            "overflow_y": null,
            "padding": null,
            "right": null,
            "top": null,
            "visibility": null,
            "width": null
          }
        },
        "8b68de6eda92482a8a4082bb69fba242": {
          "model_module": "@jupyter-widgets/base",
          "model_module_version": "1.2.0",
          "model_name": "LayoutModel",
          "state": {
            "_model_module": "@jupyter-widgets/base",
            "_model_module_version": "1.2.0",
            "_model_name": "LayoutModel",
            "_view_count": null,
            "_view_module": "@jupyter-widgets/base",
            "_view_module_version": "1.2.0",
            "_view_name": "LayoutView",
            "align_content": null,
            "align_items": null,
            "align_self": null,
            "border": null,
            "bottom": null,
            "display": null,
            "flex": null,
            "flex_flow": null,
            "grid_area": null,
            "grid_auto_columns": null,
            "grid_auto_flow": null,
            "grid_auto_rows": null,
            "grid_column": null,
            "grid_gap": null,
            "grid_row": null,
            "grid_template_areas": null,
            "grid_template_columns": null,
            "grid_template_rows": null,
            "height": null,
            "justify_content": null,
            "justify_items": null,
            "left": null,
            "margin": null,
            "max_height": null,
            "max_width": null,
            "min_height": null,
            "min_width": null,
            "object_fit": null,
            "object_position": null,
            "order": null,
            "overflow": null,
            "overflow_x": null,
            "overflow_y": null,
            "padding": null,
            "right": null,
            "top": null,
            "visibility": null,
            "width": null
          }
        },
        "8f80115360c445c59729d237b1102701": {
          "model_module": "@jupyter-widgets/controls",
          "model_module_version": "1.5.0",
          "model_name": "DescriptionStyleModel",
          "state": {
            "_model_module": "@jupyter-widgets/controls",
            "_model_module_version": "1.5.0",
            "_model_name": "DescriptionStyleModel",
            "_view_count": null,
            "_view_module": "@jupyter-widgets/base",
            "_view_module_version": "1.2.0",
            "_view_name": "StyleView",
            "description_width": ""
          }
        },
        "97b1270e0bf64cb5b2ddc0b675969375": {
          "model_module": "@jupyter-widgets/base",
          "model_module_version": "1.2.0",
          "model_name": "LayoutModel",
          "state": {
            "_model_module": "@jupyter-widgets/base",
            "_model_module_version": "1.2.0",
            "_model_name": "LayoutModel",
            "_view_count": null,
            "_view_module": "@jupyter-widgets/base",
            "_view_module_version": "1.2.0",
            "_view_name": "LayoutView",
            "align_content": null,
            "align_items": null,
            "align_self": null,
            "border": null,
            "bottom": null,
            "display": null,
            "flex": null,
            "flex_flow": null,
            "grid_area": null,
            "grid_auto_columns": null,
            "grid_auto_flow": null,
            "grid_auto_rows": null,
            "grid_column": null,
            "grid_gap": null,
            "grid_row": null,
            "grid_template_areas": null,
            "grid_template_columns": null,
            "grid_template_rows": null,
            "height": null,
            "justify_content": null,
            "justify_items": null,
            "left": null,
            "margin": null,
            "max_height": null,
            "max_width": null,
            "min_height": null,
            "min_width": null,
            "object_fit": null,
            "object_position": null,
            "order": null,
            "overflow": null,
            "overflow_x": null,
            "overflow_y": null,
            "padding": null,
            "right": null,
            "top": null,
            "visibility": null,
            "width": null
          }
        },
        "9962ab1b0c9c4bf79cfbb7d969ad0fbf": {
          "model_module": "@jupyter-widgets/base",
          "model_module_version": "1.2.0",
          "model_name": "LayoutModel",
          "state": {
            "_model_module": "@jupyter-widgets/base",
            "_model_module_version": "1.2.0",
            "_model_name": "LayoutModel",
            "_view_count": null,
            "_view_module": "@jupyter-widgets/base",
            "_view_module_version": "1.2.0",
            "_view_name": "LayoutView",
            "align_content": null,
            "align_items": null,
            "align_self": null,
            "border": null,
            "bottom": null,
            "display": null,
            "flex": null,
            "flex_flow": null,
            "grid_area": null,
            "grid_auto_columns": null,
            "grid_auto_flow": null,
            "grid_auto_rows": null,
            "grid_column": null,
            "grid_gap": null,
            "grid_row": null,
            "grid_template_areas": null,
            "grid_template_columns": null,
            "grid_template_rows": null,
            "height": null,
            "justify_content": null,
            "justify_items": null,
            "left": null,
            "margin": null,
            "max_height": null,
            "max_width": null,
            "min_height": null,
            "min_width": null,
            "object_fit": null,
            "object_position": null,
            "order": null,
            "overflow": null,
            "overflow_x": null,
            "overflow_y": null,
            "padding": null,
            "right": null,
            "top": null,
            "visibility": null,
            "width": null
          }
        },
        "c6c9b8a50105456481611114a49b9ee7": {
          "model_module": "@jupyter-widgets/controls",
          "model_module_version": "1.5.0",
          "model_name": "HTMLModel",
          "state": {
            "_dom_classes": [],
            "_model_module": "@jupyter-widgets/controls",
            "_model_module_version": "1.5.0",
            "_model_name": "HTMLModel",
            "_view_count": null,
            "_view_module": "@jupyter-widgets/controls",
            "_view_module_version": "1.5.0",
            "_view_name": "HTMLView",
            "description": "",
            "description_tooltip": null,
            "layout": "IPY_MODEL_21f59c79626840d189e2d34dacec1338",
            "placeholder": "​",
            "style": "IPY_MODEL_0b78b0d6ba994cda991042fa7e0673be",
            "value": "\n<b>Pro Tip:</b> If you don't already have one, you can create a dedicated\n'notebooks' token with 'write' access, that you can then easily reuse for all\nnotebooks. </center>"
          }
        },
        "d5a9033f83334f75917b70b259daad47": {
          "model_module": "@jupyter-widgets/base",
          "model_module_version": "1.2.0",
          "model_name": "LayoutModel",
          "state": {
            "_model_module": "@jupyter-widgets/base",
            "_model_module_version": "1.2.0",
            "_model_name": "LayoutModel",
            "_view_count": null,
            "_view_module": "@jupyter-widgets/base",
            "_view_module_version": "1.2.0",
            "_view_name": "LayoutView",
            "align_content": null,
            "align_items": "center",
            "align_self": null,
            "border": null,
            "bottom": null,
            "display": "flex",
            "flex": null,
            "flex_flow": "column",
            "grid_area": null,
            "grid_auto_columns": null,
            "grid_auto_flow": null,
            "grid_auto_rows": null,
            "grid_column": null,
            "grid_gap": null,
            "grid_row": null,
            "grid_template_areas": null,
            "grid_template_columns": null,
            "grid_template_rows": null,
            "height": null,
            "justify_content": null,
            "justify_items": null,
            "left": null,
            "margin": null,
            "max_height": null,
            "max_width": null,
            "min_height": null,
            "min_width": null,
            "object_fit": null,
            "object_position": null,
            "order": null,
            "overflow": null,
            "overflow_x": null,
            "overflow_y": null,
            "padding": null,
            "right": null,
            "top": null,
            "visibility": null,
            "width": "50%"
          }
        },
        "d9ff0337a5434c2891d3272ddde319a2": {
          "model_module": "@jupyter-widgets/controls",
          "model_module_version": "1.5.0",
          "model_name": "ButtonStyleModel",
          "state": {
            "_model_module": "@jupyter-widgets/controls",
            "_model_module_version": "1.5.0",
            "_model_name": "ButtonStyleModel",
            "_view_count": null,
            "_view_module": "@jupyter-widgets/base",
            "_view_module_version": "1.2.0",
            "_view_name": "StyleView",
            "button_color": null,
            "font_weight": ""
          }
        },
        "e08ca003447b4a158c2a9b16b009b0ec": {
          "model_module": "@jupyter-widgets/controls",
          "model_module_version": "1.5.0",
          "model_name": "VBoxModel",
          "state": {
            "_dom_classes": [],
            "_model_module": "@jupyter-widgets/controls",
            "_model_module_version": "1.5.0",
            "_model_name": "VBoxModel",
            "_view_count": null,
            "_view_module": "@jupyter-widgets/controls",
            "_view_module_version": "1.5.0",
            "_view_name": "VBoxView",
            "box_style": "",
            "children": [],
            "layout": "IPY_MODEL_d5a9033f83334f75917b70b259daad47"
          }
        }
      }
    }
  },
  "nbformat": 4,
  "nbformat_minor": 0
}
